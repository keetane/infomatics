{
 "cells": [
  {
   "cell_type": "code",
   "execution_count": 138,
   "metadata": {},
   "outputs": [
    {
     "name": "stdout",
     "output_type": "stream",
     "text": [
      "python version: 3.10.6\n",
      "rdkit version: 2022.03.5\n"
     ]
    }
   ],
   "source": [
    "# import the libraries\n",
    "# https://github.com/chembl/notebooks/blob/main/ChEMBL_webresource_client_examples.ipynb\n",
    "from chembl_webresource_client.new_client import new_client\n",
    "from IPython.display import SVG\n",
    "import requests\n",
    "import pandas as pd\n",
    "from rdkit.Chem.Draw import IPythonConsole\n",
    "from rdkit.Chem import AllChem, PandasTools, rdRGroupDecomposition, Descriptors, Draw\n",
    "from rdkit import DataStructs, rdBase\n",
    "import platform\n",
    "print('python version: ' + platform.python_version())\n",
    "print(f'rdkit version: {rdBase.rdkitVersion}')"
   ]
  },
  {
   "cell_type": "markdown",
   "metadata": {},
   "source": [
    "### APIで化合物情報を取得"
   ]
  },
  {
   "cell_type": "markdown",
   "metadata": {},
   "source": [
    "##### UniProt IDからTarget ChEMBL IDを検索"
   ]
  },
  {
   "cell_type": "code",
   "execution_count": 2,
   "metadata": {},
   "outputs": [
    {
     "data": {
      "text/html": [
       "<div>\n",
       "<style scoped>\n",
       "    .dataframe tbody tr th:only-of-type {\n",
       "        vertical-align: middle;\n",
       "    }\n",
       "\n",
       "    .dataframe tbody tr th {\n",
       "        vertical-align: top;\n",
       "    }\n",
       "\n",
       "    .dataframe thead th {\n",
       "        text-align: right;\n",
       "    }\n",
       "</style>\n",
       "<table border=\"1\" class=\"dataframe\">\n",
       "  <thead>\n",
       "    <tr style=\"text-align: right;\">\n",
       "      <th></th>\n",
       "      <th>organism</th>\n",
       "      <th>pref_name</th>\n",
       "      <th>target_chembl_id</th>\n",
       "      <th>target_type</th>\n",
       "    </tr>\n",
       "  </thead>\n",
       "  <tbody>\n",
       "    <tr>\n",
       "      <th>0</th>\n",
       "      <td>Homo sapiens</td>\n",
       "      <td>Tyrosine-protein kinase TYK2</td>\n",
       "      <td>CHEMBL3553</td>\n",
       "      <td>SINGLE PROTEIN</td>\n",
       "    </tr>\n",
       "    <tr>\n",
       "      <th>1</th>\n",
       "      <td>Homo sapiens</td>\n",
       "      <td>Tyrosine-protein kinase TYK2</td>\n",
       "      <td>CHEMBL3553</td>\n",
       "      <td>SINGLE PROTEIN</td>\n",
       "    </tr>\n",
       "    <tr>\n",
       "      <th>2</th>\n",
       "      <td>Homo sapiens</td>\n",
       "      <td>Janus Kinase (JAK)</td>\n",
       "      <td>CHEMBL2363062</td>\n",
       "      <td>PROTEIN FAMILY</td>\n",
       "    </tr>\n",
       "    <tr>\n",
       "      <th>3</th>\n",
       "      <td>Homo sapiens</td>\n",
       "      <td>JAK1/JAK2/TYK2</td>\n",
       "      <td>CHEMBL3301390</td>\n",
       "      <td>PROTEIN COMPLEX</td>\n",
       "    </tr>\n",
       "    <tr>\n",
       "      <th>4</th>\n",
       "      <td>Homo sapiens</td>\n",
       "      <td>JAK1/TYK2</td>\n",
       "      <td>CHEMBL3301391</td>\n",
       "      <td>PROTEIN COMPLEX</td>\n",
       "    </tr>\n",
       "    <tr>\n",
       "      <th>5</th>\n",
       "      <td>Homo sapiens</td>\n",
       "      <td>JAK2/TYK2</td>\n",
       "      <td>CHEMBL3301392</td>\n",
       "      <td>PROTEIN COMPLEX</td>\n",
       "    </tr>\n",
       "  </tbody>\n",
       "</table>\n",
       "</div>"
      ],
      "text/plain": [
       "       organism                     pref_name target_chembl_id  \\\n",
       "0  Homo sapiens  Tyrosine-protein kinase TYK2       CHEMBL3553   \n",
       "1  Homo sapiens  Tyrosine-protein kinase TYK2       CHEMBL3553   \n",
       "2  Homo sapiens            Janus Kinase (JAK)    CHEMBL2363062   \n",
       "3  Homo sapiens                JAK1/JAK2/TYK2    CHEMBL3301390   \n",
       "4  Homo sapiens                     JAK1/TYK2    CHEMBL3301391   \n",
       "5  Homo sapiens                     JAK2/TYK2    CHEMBL3301392   \n",
       "\n",
       "       target_type  \n",
       "0   SINGLE PROTEIN  \n",
       "1   SINGLE PROTEIN  \n",
       "2   PROTEIN FAMILY  \n",
       "3  PROTEIN COMPLEX  \n",
       "4  PROTEIN COMPLEX  \n",
       "5  PROTEIN COMPLEX  "
      ]
     },
     "execution_count": 2,
     "metadata": {},
     "output_type": "execute_result"
    }
   ],
   "source": [
    "uniprot_id = input('UniProt ID?') # P29597\n",
    "target = new_client.target.get(\n",
    "    target_components__accession=uniprot_id\n",
    "    ).only(\n",
    "        'target_chembl_id', \n",
    "        'organism', \n",
    "        'pref_name', \n",
    "        'target_type'\n",
    "        )\n",
    "pd.DataFrame.from_records(target)"
   ]
  },
  {
   "cell_type": "code",
   "execution_count": 136,
   "metadata": {},
   "outputs": [
    {
     "name": "stdout",
     "output_type": "stream",
     "text": [
      "the number of Document ChEMBL ID is 133\n",
      "the number of Murcko generic scaffold is 415\n",
      "the number of Murcko scaffold is 645\n"
     ]
    }
   ],
   "source": [
    "id = input('target ChEMBL ID?') # CHEMBL3553\n",
    "activities = new_client.activity.filter(\n",
    "    target_chembl_id__in=id,  ##Specify a list of example targets\n",
    "    pchembl_value__gte=5,  ##Specify a minimum threshold of the pChEMBL activity value. Note that pCHEMBL = -log10(IC50, XC50, AC50, Ki, Kd, potency). Greater than or equal to 5 (10um) is a typical minimum rule of thumb for binding activity between a compound and a protein target. \n",
    "    assay_type='B',  ##Only look for Binding Assays\n",
    ").only([\n",
    "    'molecule_chembl_id',\n",
    "    'molecule_pref_name',\n",
    "    'target_chembl_id',\n",
    "    'target_pref_name',\n",
    "    'parent_molecule_chembl_id',\n",
    "    'pchembl_value',\n",
    "    'canonical_smiles',\n",
    "    'assay_description',\n",
    "    'document_chembl_id',\n",
    "    'document_journal',\n",
    "    'document_year',\n",
    "]) ## Specify which fields (columns) to extract  \n",
    "\n",
    "\n",
    "df = pd.DataFrame(activities)\n",
    "\n",
    "# Mol File 追加\n",
    "PandasTools.AddMoleculeColumnToFrame(df, 'canonical_smiles', 'Molecule', includeFingerprints=True)\n",
    "# Murcko Scaffoldの追加\n",
    "PandasTools.AddMurckoToFrame(df, molCol='Molecule', MurckoCol='Murcko_SMILES')\n",
    "PandasTools.AddMurckoToFrame(df, molCol='Molecule', MurckoCol='Murcko_generic_SMILES', Generic=True)\n",
    "PandasTools.AddMoleculeColumnToFrame(df, molCol='Murcko_Mol', smilesCol='Murcko_SMILES')\n",
    "PandasTools.AddMoleculeColumnToFrame(df, molCol='Murcko_generic_Mol', smilesCol='Murcko_generic_SMILES')\n",
    "# PandasTools.FrameToGridImage(df[:8], column='Murcko_generic_Mol', legendsCol=None, molsPerRow=4)\n",
    "\n",
    "# 文献数\n",
    "print(\"the number of Document ChEMBL ID is \" + str(len(df['document_chembl_id'].unique())))\n",
    "\n",
    "# 骨格数情報 SMILESじゃないとなぜか反映されない\n",
    "print(\"the number of Murcko generic scaffold is \" + str(len(df['Murcko_generic_SMILES'].unique())))\n",
    "print(\"the number of Murcko scaffold is \" + str(len(df['Murcko_SMILES'].unique())))\n",
    "\n",
    "# descriptorの追加\n",
    "df['MW'] = df['canonical_smiles'].apply(lambda x : Descriptors.MolWt(Chem.MolFromSmiles(x)))\n",
    "df['Mol LogP'] = df['canonical_smiles'].apply(lambda x : Descriptors.MolLogP(Chem.MolFromSmiles(x)))\n",
    "df['TPSA'] = df['canonical_smiles'].apply(lambda x : Descriptors.TPSA(Chem.MolFromSmiles(x)))\n",
    "df['Ct HA'] = df['canonical_smiles'].apply(lambda x : Descriptors.HeavyAtomCount(Chem.MolFromSmiles(x)))\n",
    "df['Ct F'] = df['canonical_smiles'].apply(lambda x : x.count('F'))\n",
    "df['HBD'] = df['canonical_smiles'].apply(lambda x : Descriptors.NumHDonors(Chem.MolFromSmiles(x)))\n",
    "df['HBA'] = df['canonical_smiles'].apply(lambda x : Descriptors.NumHAcceptors(Chem.MolFromSmiles(x)))\n",
    "df['Ct RB'] = df['canonical_smiles'].apply(lambda x : Descriptors.NumRotatableBonds(Chem.MolFromSmiles(x)))\n",
    "df['Ct Ar'] = df['canonical_smiles'].apply(lambda x : Descriptors.NumAromaticRings(Chem.MolFromSmiles(x)))\n",
    "\n",
    "\n",
    "# molecule = new_client.molecule\n",
    "# mols = molecule.filter(pref_name__iexact='aspirin')\n",
    "# df = pd.DataFrame(mols)\n",
    "# df"
   ]
  },
  {
   "cell_type": "code",
   "execution_count": 24,
   "metadata": {},
   "outputs": [
    {
     "data": {
      "text/html": [
       "<div>\n",
       "<style scoped>\n",
       "    .dataframe tbody tr th:only-of-type {\n",
       "        vertical-align: middle;\n",
       "    }\n",
       "\n",
       "    .dataframe tbody tr th {\n",
       "        vertical-align: top;\n",
       "    }\n",
       "\n",
       "    .dataframe thead th {\n",
       "        text-align: right;\n",
       "    }\n",
       "</style>\n",
       "<table border=\"1\" class=\"dataframe\">\n",
       "  <thead>\n",
       "    <tr style=\"text-align: right;\">\n",
       "      <th></th>\n",
       "      <th>molecule_pref_name</th>\n",
       "      <th>Molecule</th>\n",
       "      <th>pchembl_value</th>\n",
       "    </tr>\n",
       "  </thead>\n",
       "  <tbody>\n",
       "    <tr>\n",
       "      <th>5</th>\n",
       "      <td>TAE-684</td>\n",
       "      <td style=\"text-align: center;\"><img data-content=\"rdkit/molecule\" src=\"data:image/png;base64,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\" alt=\"Mol\"/></td>\n",
       "      <td>5.64</td>\n",
       "    </tr>\n",
       "    <tr>\n",
       "      <th>6</th>\n",
       "      <td>AT-9283</td>\n",
       "      <td style=\"text-align: center;\"><img data-content=\"rdkit/molecule\" src=\"data:image/png;base64,iVBORw0KGgoAAAANSUhEUgAAAMgAAADICAIAAAAiOjnJAAAABmJLR0QA/wD/AP+gvaeTAAAaF0lEQVR4nO3de1yUVf4H8M8MA85wUwRBwgBxK4S8lFAJFahbWsDLK3khzHgl0npbe7lLeYndl7VM2Y9cy3S2dMVEDRMVFMxLwaJYmqYJXvJCKojKHbkNM/N8f388RCYCM8NzHMTzfvnHAM85zxnnM8/1nPPIiAgcJzW5pRvAdU88WBwTPFgcEzxYHBM8WBwTPFgcEzxYHBM8WBwTPFgcEzxYHBM8WBwTPFgcEzxYHBM8WBwTPFgcEzxYHBM8WBwTPFgcEzxYHBM8WBwTPFgcEzxYHBM8WBwTPFgcEzxYHBM8WBwTPFgcEzxYHBM8WBwTPFgcEzxYHBM8WBwTPFgcEzxYHBM8WBwTPFgcEzxYHBM8WBwTPFgcEzxYHBM8WBwTPFgcEzxYHBM8WBwTPFgcEzxYHBM8WBwTPFgcEzxYHBM8WBwTPFgcEzxYHBM8WBwTFg4W0Z0vuO7BksE6fx7vv//7C3d3FBaipgYLFhhVfOdO5OcDwNdfM2wkZx6FZVev06G+Ho2NABAaimXLsGIFACxahPJyODrCygoqFZRKKBRwcACAXr0gk8HJCfv3Y+tWbNiArCxMmmTJd8G1ZuFg5eUhKQnl5XB2hqMjgoOxbRsArF+PkpL2Cvbrh3HjMGUK1qy5Ny3lTGPhYIWEYMkSnD+Pr74CgOhoTJ0Kd3eo1WhsRHU1BAH19dBqodOhthYAqqpABEdHAHjhBcybh7IyS74F7q4sGSxHRwwZ0vzCzw8PPwyZDO++i/x8vPJKx8XnzgWApUsxfDjbdnJmsGSw3NwQEdH8oqwMS5eioQFxcfDzM6p4QgJsbHD9OqZOxa1bzUdgXBfRVa5jpaTg5k3Y2ZlQxMUFMhnmz8fy5ThwgFnLOLN0iWBduYKDB2Fri3HjTC4bFgYAu3dL3igAqK/Hhg0A0NCA5GQmq+iuukSwUlIgCBg71oTd2S+/YNEirFv3e7BYXGJtasKxY394wRnJwmeFok2bACAqyoQiZ88iMRHPPIOYGHh64soVnDiBJ56Qvm15eXjnHWi10tfcvVl+i3XiBPLz0acPXnzRhFKjRkGpxJEjuHkTY8YAzPaGQUFITERCApPKuzHLB2v79pUhITtmziy3tjahlJ0dQkIgCPjmm+a9YW6u9JezZDLI5X94wRnJwv9bgiCsW7c8J2d8RMR5U8uGhUEuF77//sKoUcLgwUEHDvQtLS2VtnmOjujTp/no7eWXpa27m7NwsLKzs4uKigYMGPD000+bWjYiosLJqe+mTYE9eggPPdTTYDBkZWVJ2zwiJCcjORm1tcjNlbbubs7CwUpJSQEQFRUlk8lMLevt3btPH+eqqqpDhw6FhYUB2M3gOGvECOTmorxc8oq7OUsGq7GxMS0tDcC0adMANDU1mVpDeHg4gN27d4vB+uabb3Q6nVTNO3IEDQ0AsHQpEhMBoLpaqrq7P0sGKyMjo6qqKjAw8LHHHgPwxhtvREVF1dXVGV9Dy4aqf//+AwcOrK6uzsvL63zDdDr84x8ICsLixQDg7Q1/fzQ14ZlnMH16c9q4DpDl7Nixw9XVNTAwsL6+/vz58w4ODgD8/f3Pnj1rZA1NTU2vvvrq+vXrBUF46623AEyaNEmr1XamVT/9RIMHE0AKBS1ZQnV1RER6Pe3eTUolARQQQIWFnVnDA8GSwSoqKlKpVAACAwN//fXXc+fOPf744wAcHBy2bNliUlUFBQUDBw7s3bs3ACcnp+jo6H379gmCYFIlej2p1dSjBwHk40P/+9+dC/z0Ew0YQAD17ElpaSbV/cCxZLCI6Pjx4wMGDADg7OycmZl569atqVOnipvS2NhYY7Y9BoNh+fLlSqUSgLu7u6+vb8vGuH///osXLz59+rQxLTl79uyrr+4CSCajefOaN1StVVZSRAQBJJfT0qWCXq836f0+OCwcLCKqrq6eMGECAJlMFh8fr9frNRqNjY1Ny5asnbKFhYWhoaFijKKjo2tqaoiooKAgISHBx8enJWF+fn4JCQmFbezABEHQaDR2dnYODo6BgZcPHOigwYJAK1aQtTWFhuaGhoZev37d7DduXsH7guWDRUSCIKxYsUKhUAAYMWLE9evXjx496u3tDcDFxWXv3r13LZWcnCwelvXt2zc9Pf2OvxoMhtzc3Hnz5vXp00eMl1wuDw4O1mg0t3+ily9fHjVqlLhAZGRkRUWFkW3Ozq5zd+8H4OGHHz58+HCHyzc1NeXn5ycnJ8fHx4eHh7u5uQUEBCxYsED8MnQ/XSJYouzs7L59+wLo169fXl7ezZs3X3jhBQBWVlbLly+/fcmSkpIIsYsgEBkZWVZW1k61jY2N6enp0dHRtra2YhGlUhkeHp6amrpp0yYnJycArq6u27dvN7XBRUVFwcHBABQKhVqtvuOvxcXFWVlZarV66tSp/v7+4tfmdmJ7wsLCuuX+tAsFi1p9VIIgqNVquVy+YsWKlmVSU1OdnZ0B9OrV68svvzS+8srKys8//zwkJET+220/8cOeNGlSaWmpeQ3W6XTx8fHi1d0xY8asXr36rbfeGjVqlIuLyx0xUigUfn5+U6ZMSUxMzMzMLCoqunTpkqurK4D58+ebt/aurGsFi377qMQPY9q0abW1tUePHhX/VFlZ+eqrr4p/GjNmTHFxsXmruHLlilqt7tu3r1wuf/3118Vftn8w174dO3Y4ODg4igM8ftOzZ8/g4ODY2NgVK1bk5ubW1dURUXV19cGDBzdu3CgWzM3N7dGjB4BPP/3U7LV3TV0uWKLt27f37NkTgK+vb35+PhFlZmY+9NBDABwdHTUaTedXsXbtWgDh4eFEFBAQAODy5ctm1zZlyhTxLOH999/ftWvXlStXxN8XFxenp6er1ero6Gg/Pz9xY6lQKBoaGsQFtmzZIpPJrKysMjIyOv+muo4uGiwiOnPmjJ+fHwB7e/sRI0aIm4GRI0d25uO/XUlJiUwmU6lUdXV14mnp6tWrzauqqalJ3Pf9/PPPRHTixIm4uLigoCCHVj1ilUrlsGHDXn/99dt3vkuXLgXg4OAgFu8eum6wiOjWrVvilqBnz54qlUqtVhsMBgnrHzZsGIDMzMzbt15m2LlzJ4AhQ4aIP+7Zs6clSU5OTsHBwfPmzUtOTv7xxx8bGxtbFxcEISoqCoC3t7fZFy+6mi4dLJG43Wo5LpHQu+++C2D27Nm3b73MqOeVV14B8OGHH4o/lpWVJSUl7d+/3/hzgoaGhuHDhwMICAgwrw1dzX0QrMDAQABHjhyRvOYffvgBgKenJxFNnJgYEnJkzx6TP9Tq6mqVSiWXy1uOq8xTWloq3oSIjIw09WZUF3Qf9LfVarUAxLMnaQUEBIwe/R8Pj0MFBQZ//7dzcgLT021NrWTbtm0NDQ0hISEPP/xwZxrj4uKSkZHRq1evrVu3JpjSx76ysjI7O3vlypXZ2dmVlZWdaYOULJ3sjj366KMAjO/yYJLXXiOAPviAfviBAPL0NLkG8cL9F198IUl79uzZo1AoZDLZhg0b2lpGPNNMSEiIjIz08/Nr6SMZEBDg4eFRVFQkSUs66T4IlpeXF4DOXGdqR2oqAfT882QwUN++BFB+vgnFr127ZmVlpVQqKysrpWrS559/DsDGxubbb78loqqqqpycnE8++WTmzJmBgYEt9w9a2NraPvXUUzExMeIN+MDAwK5wlHYfBMvNzQ1ASUkJi8qrq8nGhqysqLycZswghYJMOkn46KOPAEycOFHaVs2fPx+Avb29p6dn652Ml5dXRETE4sWLU1NTz50713KmXFZW9qc//Ulsj7Snz2a4D4I1Zsz/hYTEV1Sw+haOGEEAbdlCV6+S0fegmz3xxBMA0qTunKXX6729vcVUWVtb+/n5RUdHq9Xq9PT0GzdutFPwzJkz4t3Pd955R9ommeo+CJZKRQDV17Oq/6OPCKDoaJMLnj59GoCTk9Ndr06ZQaPRqNXqkpKSljPN7777ztRb1Pv27bO2tgawefMPkrTKPPdBsORyAohdD4DTp8nGhqZMMbngokWLAMTGxkrVkkceeQTAgQMHxAu2o0aNMq8ejUYTGppnY0PZ2VI1zWRdPVhaLQFkbc12LQsXklZLOp0JB1iCIPTv3x9ATk6OJG04fPgwgIceekiv148cORLAunXrzK7trbcIoN696dw5SVpnsq4erJoaAsjBge1agoJIrSatluLiKD+fLl6kixfp+nWqqKDa2rsXyc3NBeDp6SnVYfKcOXMALFy4sLi4uPNnmgYDjRvX3Hn/5k1JGmiaLjHbTDvEaV4YXBz9g8cfx40bKCwEgHHjcOHCnQv4+j5548avABwcHBQKRY8ePcrLywGMHz9e7LCQl5dnMBiee+458xqg1+u3bt0KICoqatOmTQaDYcKECb169TL7Hcnl2LQJISE4ehQTJ2LfPnP+D4nIjIHEvxeWktT3Iq5eJYA8PKSt9U6xsVReTq+9RnFxFBZGPj7k40OuruTkRLa24vd+YOv/OgcHh2eeeUar1R49elSpVDo7O58/f968BuzatQvAwIEDiWjo0KEAduzY0fn3VVREHh4E0H/+0/HCd3SednV1/fTTT8VraWaQLliFhfT667RoEcXE0K1bUtX600+0bx/l5NDVq9TSX0aijjO/E4+/166luLi7L2AwGCoqKioqKi5fvnzx4sWCgoKsrCwPDw8AM2bMMBgMY8eOBTBgwADzOqOKY5P+9a9/SX6meewYvfceffMNXbxIRJSZ+fufrl6l3bspMZEmT6bw8PesrKzu+OYoFAonJ6czZ86YsV7pgjVnDoldPg4coM8+IyKS4pKmiwv9+CNVVNDChTR9evMvW15IRbxSLQhtjvq6q+PHj9vZ2QFQq9W3bt0StzTPP/+8qSNma2tr7e3tZTJZYWHhO++8A2DWrFkm1dChOXPotdeIiGJiaO1aGjmSnJ0J+P1fSMhOhULh4+MTHh6ekJCQnp5+4cIFsc9S//792794dlfSBWvatOb94PnztHQplZWRiwuFh1Pn7vm/9hpNm0alpbRwIY0dS4cP0+HDNHWqNE3uvF27dllZWclkss2bNxcXF/fr1w9AS3dnI23YsAHAc889JwiCODbpf60Hy3bOnDm0cSNt3EgxMbRkSXOYevemkSPpr3+ldevop5+qWm8j6+vrxVmAnn32WVO3oNIF68MPmy+brFpFu3dTZibZ2RFAjo60cqUZl6EOHqTSUpo5k/bupffeo4UL6aWXaOdO2rmTJk+WrNWd98EHHwBQqVTff//9sWPHxG3YBx98YHwNo0ePBrBmzZqcnBwAnp6eknebmTOHtFqaPp0iI+nMGdq9m65eNargtWvXxBsAkydPNqlV0gWrsZESE+ntt2nNGjpxgoqLqbiYoqObvx1Dh5IRg+9EZ85QZCTJZLRgAc2cSUQUE8N2V9hJcXFxANzd3S9fvrxt2za5XC6TyYycJeDGjRsKhcLGxqasrCw2NhbAokWLJG+hGKxz56hvX5PL5ufni+MPli1bZnwpBtextFoaOJDs7EitJr2edu4kLy8CfvX0nD93blVVVTtFr16lmBiysmq+dpWYSFlZRETFxfTtt82viX5/0UU0NTWJnWf8/f2rqqrUanXLNqzDsjqdLisr6+OPP9ZqteKwtlOnTknewmXLSDxhNe+0NTMzU9zjG9+Pl0Gwystp7NjmDdWwYXT0KNXW0t//Pn74cPFrvXnz5taFKioq4+MF8bagjQ3NmUOmHy9aUnV1tb+/P4CXXnpJr9fPmjVLfLPGdyvdvn07gKFDh0retlOnCCBnZ9LpzK/k448/BqBUKvPy8oxZntmV94wM8vZunj0jOprKy8+dO9cymD00NLTlJFar1Wo0mj59+gQFFcpkFBlp5rfK4i5duiQO51+wYEFTU9OIESMGDhx46dIlY8rqdLqXX34ZwB1jviXx9tsEtHklxXh/+ctfALi4uFy4cKHDhVne0qmro4QEsrGps7V95oknkpOTBUH44osvxA2+UqnUaDTr1q1r6dE7efLfjx1j2Jx7oGUA6qpVqyoqKtq5J1NZWZmbm6vRaObNmxccHKxSqezs7JydnSXv/ykIzV/w3NzOVqXX68UpFP38/Dq83cT+XuGpU/+eMUOMzosvvnj+/PmKiop58+bJ5XJx7IB4aJKamsq8JffE5s2bxQGou3btavmlTqcrKCjYvHnz22+//dJLL4lXVm8nk8kGDBjAYv6Z7GwCyMtLmnsiNTU1gwYNAjB69Ghdu3vWe3ETWhCE5ORkcTdhbW0dHx9fWFgoTjPk6emp0Wi62awYixcvFm/4xMfHx8TEDBs2TJy+63b29vbDhw+fNWvW6tWrDx06xG7OmZkzCaDFiyWrsLCwUOzT+8Ybb7Sz2L3r3VBaWjpjxgzxpqY4bnj69OmdnNaxaxIE4ZVXXhFnzmnh7u4eHh4eHx+fnJycn59/b7oONzY2+vsXAlRQIGW1eXl54ldl7dq1bS1zr7vN5ObmPv74408++SSAbdu23eO13zP19fUXL16MjY1dtWpVbm6upeZYS0tLk8lk48bNlLzmjz76yMnJ6b///W9bC9zrbjPPPvvs8ePHx40bB6D1DqLbUKlUPj4+Go3Gss1ISUkhouee8+14UROVlpZWVlYePXp0xm8H0HewwIBVa2vrxsZGsBmDyrWoqanJzMyUy+WTJ0+WtmYi+uqrrwBEtf3ENsuMhBYHN3fjLVZXkJqa2tDQMHLkyNYnoZ2Uk5Pz66+/enl5DW/7cdyWDBbfYjHV8jgZRjVHR0e307/UMl2Tvb1nWVtPU6ncLLL2B0FxcbF4tXb8+PHS1qzVar/++msAYm+ttlhmi3Xy5BuHDy+wsenULBpcO9zc3CZNmgSgUOzJL52qvXvD/f1Dnn1WvDfaFssEq7ERYD9E4kFmZWVlY2Oj1WrDwsKKiookrNlt/fovDx3KnjChg+Ukv8JhDFdXAu6z/gv3HfFGOIAnn3yytq1RbKaqrKQePUgup47uaVrq4B3gWyzGrK2tt27d+sgjjxw/fnz69OmCIEhQ6dat0GoxahQ6OtPku8LuzNnZOSMjw8nJKS0tTZwQoLNSUgDAmDNNabaQphAEkskIkHwMInd3OTk54rOJ1qxZ06mKiopILielktrtBiyywBbr1i2sWYOkJDQ0oOV5qNI9GJW70/PPP79mzRoAc+fOPXDggPkVHT8OW1uMHYuePTteuFMRNouvL4kT1cbEdN3xEd3P3/72NwCOjo75Js1Z2GLvXkpKory8Dg/bRRbYYg0fjn//GwYDAAgCqqpQVdX8I8eOWq0eP358TU1NREREaWmpaYXXr8cvvyAqChs2oKzMmBL39Mp7WRnkclhbY9o0fPYZAFRUQOwBYFxrOfPJ5fKUlJTQ0NAjR45MmDBh//79HdxSKyvDyZM4eRJubti3Dxs3QibDm29i924MGdLh6u5RsOrr8cknUKshPmTpz3/G9u3Q6eDiAvGJTKdP35uGPNBUKtWOHTuefvrpgwcPzpgxY9OmTS03+/R6/blz54pPn37x2DGcPImff8a1a83FQkLg5YWmJvTogbo6tJpd966YB0uvx7p1+Mc/UFICAFevYuJEAFi8GJmZaJmH4rfnpHJsubu7Z2VlBQUFbdmyxcHBwc/P7+effz558mRBQYFWq+2lVFbq9dDrAcDBAYMGYfBgBAXBywsLF2L0aKSk4OOPjVqTOcdxxhEEYds24bHHmocYPvUUffcdu7VxJkhPT7eyshKfliiSyWQ+Pj7jx4+/lZhIaWl08eKdV4NKSujgQTK6b76MiFh8Mw4fPhwfHy8Ibxw6NP3RR/Hee5g0CWZP4sVJ7scff8zOzr5w4cKQIUMGDx48ePDg1s8q6xTJvw2nTp0KCwsTKx869KnPPqOmJslXwnV17R1jpaSk6PV6W1tbuVwuTgvh6OhoZWWlUqmUSqVCoRAz3qtXL/EYsKioaNmyZWvXrjUYDPb29rNnz160aNEfHzvKPSja3BVeuXLF19e3oaHByIpUKlXv3r2Li4ttbGzi4uKWLFnS8vh47gHU5hZr5cqVDQ0NHh4eQUFBBoOhpqYGQHV1tSAI9fX1Wq1Wp9PV1tYCEJ841dDQUFNTM27cuKSkJHGeau6B1tY+sqKiQnx4xv79+zvcob755psAgoODu8GD9jhJtHfw/v777wMICAhoPy5HjhwR+ysWSDvelruftRes+vp6cVLNr776qq1l9Hq9+KAiFvPQcfevDi43iGN5fXx82ppkISkpCYCXl5dknV+5bqGDYOn1evFZ36tWrWr912vXromXITIyMtg0j7tfdXyBNC0tDYCrq2vrqXYmTpwIBo+B5LoBo668BwcHA/jnP/95+y/37NkDwMHB4aqRMztzDxKjgiU+6cre3v66+OwJovr6enHmtKSkJJbN4+5Xxt4rjIiIADB37lzxR3HIx6BBg5r4jUDubozt3XD27NlBgwbJZLLTp08LgjB48GCdTnfw4MF25hvhHmTG9nn39fWNjo7W6XTvvvvum2++qdVqY2Njeaq4tpjQH6u4uPjRRx9taGggIjc3t5YHpnNcayaM0vHw8Jg9e7YYRHEKSmat4u57pvUgraysPHv27I0bN8aOHWv+Q125BwCrrsncA84yk4Jw3R4PFscEDxbHBA8WxwQPFscEDxbHBA8WxwQPFscEDxbHBA8WxwQPFscEDxbHBA8WxwQPFscEDxbHBA8WxwQPFscEDxbHBA8WxwQPFscEDxbHBA8WxwQPFscEDxbHBA8WxwQPFscEDxbHBA8WxwQPFscEDxbHBA8WxwQPFscEDxbHBA8WxwQPFscEDxbHBA8WxwQPFscEDxbHBA8WxwQPFscEDxbHBA8WxwQPFscEDxbHBA8WxwQPFscEDxbHBA8WxwQPFscEDxbHBA8WxwQPFsfE/wNTg7WVLO7XGQAAAh96VFh0cmRraXRQS0wgcmRraXQgMjAyMi4wMy41AAB4nHu/b+09BiDgZYAARiCWAWIFIG5g5GDQANLMTGwQmoWdIQPMZ2RzgAiwOYAFmBnZHSxADEZmdogMM0IFVCuGOFQnEgMqw5AApJmY2MGOYIZxYTQHWJgJXRjDGISL4I4GK2VmRNfKzcCowcTIpMDErMDMksHEwprAypbAxp7BxM6hwMGZwcTJlcDFncHEzZPAw5vBxMvHwMfPwC/AICDIICjEICTMICzCwCuaICqWwSQmnsAooSAhySApxSAlzcDOnCDOkSAtySDGlSDCzyDCysrCzM7GysrJIS7GxcbNwysKpAQEhYRF+JmlJKXFoxghEQAGMsnuZw5oKU/bC+K8y158oNc/Zj+IvTOy6EALv8Q+ELthUv6Bypdr7EFsl5NzD9RKCzqA2MWLew+INmeD2YaB1gfu7s4AsxP9FA5sncMDZk86271fbdENsN7n/dr7Y/sb7UDst24h9oarw8Ds7bnP7ANY8sH2zlse6MAlqgVm238udIjstAfrZTRa4eBv0wRmT3Q57vD1JgPYbQfktjsUvDoCVh9geM3h/wLtAyD2zS1MjrqpUmD2weNcjsHf6sFqPtV8c1B5LAS2V/6csYOVzCewmbt2rbKfvuQ8mB19VdSOp1IJ7P6u80sOzOAUB5szm+/8geY5LmA2g8OLA9s1u8HsMs7/B7yvOoLZYgBLZIdAusnerQAAAqJ6VFh0TU9MIHJka2l0IDIwMjIuMDMuNQAAeJx9VVtuGzEM/PcpdAELfImPz8QOiqKIDbRp79D/3B8lZSSrAELXFqHdHVPSzJA+tbp+Xn/8fW+fF11Pp9bgP9+IaH8YAE6vrSbt+eXb91u7vD09fzy53H/f3n418saUv8nPV+zT2/314wm2eztrZ2dDaWfoYMwQLSfzOn5L7dLOoyNo0CikKwzfIbnd2pm7uRppIVFcwjZIqZyJFGa0hp0HuI0NcBRQejA4eqNOagy8AWqtLV1ICahxVws33QCtgNSD1GvLXVlFd0CvpakPEHPJpTEMdLfHKCB2CCLEPEzyJOIbIEKtDbk3QJUE0ODMvkNi5kymKQjqPUEob4GlDnYHIOLKHcyqsENyIrmTDR9TRlVhlx1SJtI895Y+SpWS+53eWOqMPIUiSO4C0PZUYqmjnciQYBqDhjPukDZTGlHyXqyO3CNsd1n6aJLNo3JSV8fkdYeM9Lp31MBBhRQkoZ2SmeiSyPSYqU82I3zQDlkCWTdIPus9CotsU5ZAlAKFDC2lIotixxHxVJKZPafpIko77YQkSTJrReVMTsWQ8s5uecTbrNwBzFIH5xGhO4qyXC/VDsRgMFdpglFOd9BS6Gypunl6KmuOxV22JPkDGhoBY2YlT9dtoC+365f29GhYz/fb9WhYVOPoSvWAj9aDOeToL/UZRxfJm6ZHr5AcdnQEyeFH3WOOOKpbcuBaxFIBcSlWqYC0VKVUQF6qTyqgLFWGM4ylnHAGXeoGZ7ClPnAGX+oAZ4jF71iBVl9jBcLFv1KrEy1Grdv04eJIqUCyWK9Yp7FYDCuQLk7CCmSLYbAC+eILSYqPtMVx5v48wUNuX9IyPvZysM7TAbiwVR5aHVP3H3+POT/9AwGrYarznPBfAAABWXpUWHRTTUlMRVMgcmRraXQgMjAyMi4wMy41AAB4nCWRPY5jQQiErzKhLT0joGh+ZG30ko3sA6w26twnmMMPvEm/Loqi+v3nvL227H+fv/8/Wx5bPlv33rfzhfN8nyfue+u8yv11ynnK1/ft4YREyPFg4gC4cDwfi4S9dGA6r6xmoEgPDBNLq/hlBughhMWZTYwKnHoo6YgHmLoeII+6FEqlnhgCt7jIYovsGalgbyLEpSrt2ylsNeGeZ3E7mHSBZ66zaSnHIC5HI6Fk1it3Ad5WII2VPsTdkDYocgy4w6fMbas9fbaxxDg7qYZcNqIrISMJ1XV0snWZeCfDaomSp/RMknjJGmCihiHdQMQVpipb/AwK7jzHVAibw7QTl3nvzhKrOQFATqWuU8FztA6dSnt1N3B9z2JgdmFVTWNOFrwaob9ReSqLviqyf9YIlhO6UXnVJdKxun//AI1tdLjspfZWAAAAAElFTkSuQmCC\" alt=\"Mol\"/></td>\n",
       "      <td>9.00</td>\n",
       "    </tr>\n",
       "    <tr>\n",
       "      <th>8</th>\n",
       "      <td>HESPERADIN</td>\n",
       "      <td style=\"text-align: center;\"><img data-content=\"rdkit/molecule\" src=\"data:image/png;base64,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\" alt=\"Mol\"/></td>\n",
       "      <td>7.12</td>\n",
       "    </tr>\n",
       "  </tbody>\n",
       "</table>\n",
       "</div>"
      ],
      "text/plain": [
       "  molecule_pref_name                                           Molecule  \\\n",
       "5            TAE-684  <img data-content=\"rdkit/molecule\" src=\"data:i...   \n",
       "6            AT-9283  <img data-content=\"rdkit/molecule\" src=\"data:i...   \n",
       "8         HESPERADIN  <img data-content=\"rdkit/molecule\" src=\"data:i...   \n",
       "\n",
       "  pchembl_value  \n",
       "5          5.64  \n",
       "6          9.00  \n",
       "8          7.12  "
      ]
     },
     "execution_count": 24,
     "metadata": {},
     "output_type": "execute_result"
    }
   ],
   "source": [
    "df[df['molecule_pref_name'].notna()].filter(items=[\n",
    "    'molecule_pref_name',\n",
    "    'Molecule', \n",
    "    'pchembl_value'\n",
    "]\n",
    ").head(3)"
   ]
  },
  {
   "cell_type": "code",
   "execution_count": 3,
   "metadata": {},
   "outputs": [],
   "source": [
    "dfd = df.groupby(['document_year'])['document_chembl_id'].describe()\n",
    "dfm = df.groupby(['document_year'])['Murcko_generic_SMILES'].describe()\n",
    "dfg = df.groupby(['document_chembl_id'])['Murcko_generic_SMILES'].describe()"
   ]
  },
  {
   "cell_type": "markdown",
   "metadata": {},
   "source": [
    "##### Count Documents and Scaffolds by Year"
   ]
  },
  {
   "cell_type": "code",
   "execution_count": 4,
   "metadata": {},
   "outputs": [
    {
     "data": {
      "application/vnd.plotly.v1+json": {
       "config": {
        "plotlyServerURL": "https://plot.ly"
       },
       "data": [
        {
         "name": "Document count",
         "type": "bar",
         "x": [
          2008,
          2009,
          2011,
          2015,
          2018,
          2019
         ],
         "y": [
          1,
          1,
          1,
          1,
          1,
          3
         ]
        },
        {
         "name": "Scaffold count",
         "type": "bar",
         "x": [
          2008,
          2009,
          2011,
          2015,
          2018,
          2019
         ],
         "y": [
          9,
          3,
          20,
          1,
          1,
          2
         ]
        }
       ],
       "layout": {
        "barmode": "group",
        "template": {
         "data": {
          "bar": [
           {
            "error_x": {
             "color": "#2a3f5f"
            },
            "error_y": {
             "color": "#2a3f5f"
            },
            "marker": {
             "line": {
              "color": "#E5ECF6",
              "width": 0.5
             },
             "pattern": {
              "fillmode": "overlay",
              "size": 10,
              "solidity": 0.2
             }
            },
            "type": "bar"
           }
          ],
          "barpolar": [
           {
            "marker": {
             "line": {
              "color": "#E5ECF6",
              "width": 0.5
             },
             "pattern": {
              "fillmode": "overlay",
              "size": 10,
              "solidity": 0.2
             }
            },
            "type": "barpolar"
           }
          ],
          "carpet": [
           {
            "aaxis": {
             "endlinecolor": "#2a3f5f",
             "gridcolor": "white",
             "linecolor": "white",
             "minorgridcolor": "white",
             "startlinecolor": "#2a3f5f"
            },
            "baxis": {
             "endlinecolor": "#2a3f5f",
             "gridcolor": "white",
             "linecolor": "white",
             "minorgridcolor": "white",
             "startlinecolor": "#2a3f5f"
            },
            "type": "carpet"
           }
          ],
          "choropleth": [
           {
            "colorbar": {
             "outlinewidth": 0,
             "ticks": ""
            },
            "type": "choropleth"
           }
          ],
          "contour": [
           {
            "colorbar": {
             "outlinewidth": 0,
             "ticks": ""
            },
            "colorscale": [
             [
              0,
              "#0d0887"
             ],
             [
              0.1111111111111111,
              "#46039f"
             ],
             [
              0.2222222222222222,
              "#7201a8"
             ],
             [
              0.3333333333333333,
              "#9c179e"
             ],
             [
              0.4444444444444444,
              "#bd3786"
             ],
             [
              0.5555555555555556,
              "#d8576b"
             ],
             [
              0.6666666666666666,
              "#ed7953"
             ],
             [
              0.7777777777777778,
              "#fb9f3a"
             ],
             [
              0.8888888888888888,
              "#fdca26"
             ],
             [
              1,
              "#f0f921"
             ]
            ],
            "type": "contour"
           }
          ],
          "contourcarpet": [
           {
            "colorbar": {
             "outlinewidth": 0,
             "ticks": ""
            },
            "type": "contourcarpet"
           }
          ],
          "heatmap": [
           {
            "colorbar": {
             "outlinewidth": 0,
             "ticks": ""
            },
            "colorscale": [
             [
              0,
              "#0d0887"
             ],
             [
              0.1111111111111111,
              "#46039f"
             ],
             [
              0.2222222222222222,
              "#7201a8"
             ],
             [
              0.3333333333333333,
              "#9c179e"
             ],
             [
              0.4444444444444444,
              "#bd3786"
             ],
             [
              0.5555555555555556,
              "#d8576b"
             ],
             [
              0.6666666666666666,
              "#ed7953"
             ],
             [
              0.7777777777777778,
              "#fb9f3a"
             ],
             [
              0.8888888888888888,
              "#fdca26"
             ],
             [
              1,
              "#f0f921"
             ]
            ],
            "type": "heatmap"
           }
          ],
          "heatmapgl": [
           {
            "colorbar": {
             "outlinewidth": 0,
             "ticks": ""
            },
            "colorscale": [
             [
              0,
              "#0d0887"
             ],
             [
              0.1111111111111111,
              "#46039f"
             ],
             [
              0.2222222222222222,
              "#7201a8"
             ],
             [
              0.3333333333333333,
              "#9c179e"
             ],
             [
              0.4444444444444444,
              "#bd3786"
             ],
             [
              0.5555555555555556,
              "#d8576b"
             ],
             [
              0.6666666666666666,
              "#ed7953"
             ],
             [
              0.7777777777777778,
              "#fb9f3a"
             ],
             [
              0.8888888888888888,
              "#fdca26"
             ],
             [
              1,
              "#f0f921"
             ]
            ],
            "type": "heatmapgl"
           }
          ],
          "histogram": [
           {
            "marker": {
             "pattern": {
              "fillmode": "overlay",
              "size": 10,
              "solidity": 0.2
             }
            },
            "type": "histogram"
           }
          ],
          "histogram2d": [
           {
            "colorbar": {
             "outlinewidth": 0,
             "ticks": ""
            },
            "colorscale": [
             [
              0,
              "#0d0887"
             ],
             [
              0.1111111111111111,
              "#46039f"
             ],
             [
              0.2222222222222222,
              "#7201a8"
             ],
             [
              0.3333333333333333,
              "#9c179e"
             ],
             [
              0.4444444444444444,
              "#bd3786"
             ],
             [
              0.5555555555555556,
              "#d8576b"
             ],
             [
              0.6666666666666666,
              "#ed7953"
             ],
             [
              0.7777777777777778,
              "#fb9f3a"
             ],
             [
              0.8888888888888888,
              "#fdca26"
             ],
             [
              1,
              "#f0f921"
             ]
            ],
            "type": "histogram2d"
           }
          ],
          "histogram2dcontour": [
           {
            "colorbar": {
             "outlinewidth": 0,
             "ticks": ""
            },
            "colorscale": [
             [
              0,
              "#0d0887"
             ],
             [
              0.1111111111111111,
              "#46039f"
             ],
             [
              0.2222222222222222,
              "#7201a8"
             ],
             [
              0.3333333333333333,
              "#9c179e"
             ],
             [
              0.4444444444444444,
              "#bd3786"
             ],
             [
              0.5555555555555556,
              "#d8576b"
             ],
             [
              0.6666666666666666,
              "#ed7953"
             ],
             [
              0.7777777777777778,
              "#fb9f3a"
             ],
             [
              0.8888888888888888,
              "#fdca26"
             ],
             [
              1,
              "#f0f921"
             ]
            ],
            "type": "histogram2dcontour"
           }
          ],
          "mesh3d": [
           {
            "colorbar": {
             "outlinewidth": 0,
             "ticks": ""
            },
            "type": "mesh3d"
           }
          ],
          "parcoords": [
           {
            "line": {
             "colorbar": {
              "outlinewidth": 0,
              "ticks": ""
             }
            },
            "type": "parcoords"
           }
          ],
          "pie": [
           {
            "automargin": true,
            "type": "pie"
           }
          ],
          "scatter": [
           {
            "fillpattern": {
             "fillmode": "overlay",
             "size": 10,
             "solidity": 0.2
            },
            "type": "scatter"
           }
          ],
          "scatter3d": [
           {
            "line": {
             "colorbar": {
              "outlinewidth": 0,
              "ticks": ""
             }
            },
            "marker": {
             "colorbar": {
              "outlinewidth": 0,
              "ticks": ""
             }
            },
            "type": "scatter3d"
           }
          ],
          "scattercarpet": [
           {
            "marker": {
             "colorbar": {
              "outlinewidth": 0,
              "ticks": ""
             }
            },
            "type": "scattercarpet"
           }
          ],
          "scattergeo": [
           {
            "marker": {
             "colorbar": {
              "outlinewidth": 0,
              "ticks": ""
             }
            },
            "type": "scattergeo"
           }
          ],
          "scattergl": [
           {
            "marker": {
             "colorbar": {
              "outlinewidth": 0,
              "ticks": ""
             }
            },
            "type": "scattergl"
           }
          ],
          "scattermapbox": [
           {
            "marker": {
             "colorbar": {
              "outlinewidth": 0,
              "ticks": ""
             }
            },
            "type": "scattermapbox"
           }
          ],
          "scatterpolar": [
           {
            "marker": {
             "colorbar": {
              "outlinewidth": 0,
              "ticks": ""
             }
            },
            "type": "scatterpolar"
           }
          ],
          "scatterpolargl": [
           {
            "marker": {
             "colorbar": {
              "outlinewidth": 0,
              "ticks": ""
             }
            },
            "type": "scatterpolargl"
           }
          ],
          "scatterternary": [
           {
            "marker": {
             "colorbar": {
              "outlinewidth": 0,
              "ticks": ""
             }
            },
            "type": "scatterternary"
           }
          ],
          "surface": [
           {
            "colorbar": {
             "outlinewidth": 0,
             "ticks": ""
            },
            "colorscale": [
             [
              0,
              "#0d0887"
             ],
             [
              0.1111111111111111,
              "#46039f"
             ],
             [
              0.2222222222222222,
              "#7201a8"
             ],
             [
              0.3333333333333333,
              "#9c179e"
             ],
             [
              0.4444444444444444,
              "#bd3786"
             ],
             [
              0.5555555555555556,
              "#d8576b"
             ],
             [
              0.6666666666666666,
              "#ed7953"
             ],
             [
              0.7777777777777778,
              "#fb9f3a"
             ],
             [
              0.8888888888888888,
              "#fdca26"
             ],
             [
              1,
              "#f0f921"
             ]
            ],
            "type": "surface"
           }
          ],
          "table": [
           {
            "cells": {
             "fill": {
              "color": "#EBF0F8"
             },
             "line": {
              "color": "white"
             }
            },
            "header": {
             "fill": {
              "color": "#C8D4E3"
             },
             "line": {
              "color": "white"
             }
            },
            "type": "table"
           }
          ]
         },
         "layout": {
          "annotationdefaults": {
           "arrowcolor": "#2a3f5f",
           "arrowhead": 0,
           "arrowwidth": 1
          },
          "autotypenumbers": "strict",
          "coloraxis": {
           "colorbar": {
            "outlinewidth": 0,
            "ticks": ""
           }
          },
          "colorscale": {
           "diverging": [
            [
             0,
             "#8e0152"
            ],
            [
             0.1,
             "#c51b7d"
            ],
            [
             0.2,
             "#de77ae"
            ],
            [
             0.3,
             "#f1b6da"
            ],
            [
             0.4,
             "#fde0ef"
            ],
            [
             0.5,
             "#f7f7f7"
            ],
            [
             0.6,
             "#e6f5d0"
            ],
            [
             0.7,
             "#b8e186"
            ],
            [
             0.8,
             "#7fbc41"
            ],
            [
             0.9,
             "#4d9221"
            ],
            [
             1,
             "#276419"
            ]
           ],
           "sequential": [
            [
             0,
             "#0d0887"
            ],
            [
             0.1111111111111111,
             "#46039f"
            ],
            [
             0.2222222222222222,
             "#7201a8"
            ],
            [
             0.3333333333333333,
             "#9c179e"
            ],
            [
             0.4444444444444444,
             "#bd3786"
            ],
            [
             0.5555555555555556,
             "#d8576b"
            ],
            [
             0.6666666666666666,
             "#ed7953"
            ],
            [
             0.7777777777777778,
             "#fb9f3a"
            ],
            [
             0.8888888888888888,
             "#fdca26"
            ],
            [
             1,
             "#f0f921"
            ]
           ],
           "sequentialminus": [
            [
             0,
             "#0d0887"
            ],
            [
             0.1111111111111111,
             "#46039f"
            ],
            [
             0.2222222222222222,
             "#7201a8"
            ],
            [
             0.3333333333333333,
             "#9c179e"
            ],
            [
             0.4444444444444444,
             "#bd3786"
            ],
            [
             0.5555555555555556,
             "#d8576b"
            ],
            [
             0.6666666666666666,
             "#ed7953"
            ],
            [
             0.7777777777777778,
             "#fb9f3a"
            ],
            [
             0.8888888888888888,
             "#fdca26"
            ],
            [
             1,
             "#f0f921"
            ]
           ]
          },
          "colorway": [
           "#636efa",
           "#EF553B",
           "#00cc96",
           "#ab63fa",
           "#FFA15A",
           "#19d3f3",
           "#FF6692",
           "#B6E880",
           "#FF97FF",
           "#FECB52"
          ],
          "font": {
           "color": "#2a3f5f"
          },
          "geo": {
           "bgcolor": "white",
           "lakecolor": "white",
           "landcolor": "#E5ECF6",
           "showlakes": true,
           "showland": true,
           "subunitcolor": "white"
          },
          "hoverlabel": {
           "align": "left"
          },
          "hovermode": "closest",
          "mapbox": {
           "style": "light"
          },
          "paper_bgcolor": "white",
          "plot_bgcolor": "#E5ECF6",
          "polar": {
           "angularaxis": {
            "gridcolor": "white",
            "linecolor": "white",
            "ticks": ""
           },
           "bgcolor": "#E5ECF6",
           "radialaxis": {
            "gridcolor": "white",
            "linecolor": "white",
            "ticks": ""
           }
          },
          "scene": {
           "xaxis": {
            "backgroundcolor": "#E5ECF6",
            "gridcolor": "white",
            "gridwidth": 2,
            "linecolor": "white",
            "showbackground": true,
            "ticks": "",
            "zerolinecolor": "white"
           },
           "yaxis": {
            "backgroundcolor": "#E5ECF6",
            "gridcolor": "white",
            "gridwidth": 2,
            "linecolor": "white",
            "showbackground": true,
            "ticks": "",
            "zerolinecolor": "white"
           },
           "zaxis": {
            "backgroundcolor": "#E5ECF6",
            "gridcolor": "white",
            "gridwidth": 2,
            "linecolor": "white",
            "showbackground": true,
            "ticks": "",
            "zerolinecolor": "white"
           }
          },
          "shapedefaults": {
           "line": {
            "color": "#2a3f5f"
           }
          },
          "ternary": {
           "aaxis": {
            "gridcolor": "white",
            "linecolor": "white",
            "ticks": ""
           },
           "baxis": {
            "gridcolor": "white",
            "linecolor": "white",
            "ticks": ""
           },
           "bgcolor": "#E5ECF6",
           "caxis": {
            "gridcolor": "white",
            "linecolor": "white",
            "ticks": ""
           }
          },
          "title": {
           "x": 0.05
          },
          "xaxis": {
           "automargin": true,
           "gridcolor": "white",
           "linecolor": "white",
           "ticks": "",
           "title": {
            "standoff": 15
           },
           "zerolinecolor": "white",
           "zerolinewidth": 2
          },
          "yaxis": {
           "automargin": true,
           "gridcolor": "white",
           "linecolor": "white",
           "ticks": "",
           "title": {
            "standoff": 15
           },
           "zerolinecolor": "white",
           "zerolinewidth": 2
          }
         }
        },
        "title": {
         "text": "Murcko generic scaffold v.s. Year"
        },
        "width": 1000
       }
      }
     },
     "metadata": {},
     "output_type": "display_data"
    }
   ],
   "source": [
    "import plotly.graph_objects as go\n",
    "fig = go.Figure()\n",
    "fig.add_trace(go.Bar(x=dfd.index, y=dfd['unique'], name='Document count'))\n",
    "fig.add_trace(go.Bar(x=dfm.index, y=dfm['unique'], name='Scaffold count'))\n",
    "\n",
    "fig.update_layout(\n",
    "    title='Murcko generic scaffold v.s. Year',\n",
    "    # showlegend=False, # Legendのon/off\n",
    "    width=1000,\n",
    "    # height=700\n",
    "    barmode='group',\n",
    ")\n",
    "fig.show()"
   ]
  },
  {
   "cell_type": "code",
   "execution_count": 147,
   "metadata": {},
   "outputs": [
    {
     "name": "stderr",
     "output_type": "stream",
     "text": [
      "[20:59:55] UFFTYPER: Unrecognized charge state for atom: 1\n"
     ]
    },
    {
     "data": {
      "image/png": "[encoded data removed]",
      "text/plain": [
       "<PIL.PngImagePlugin.PngImageFile image mode=RGB size=300x300>"
      ]
     },
     "execution_count": 147,
     "metadata": {},
     "output_type": "execute_result"
    }
   ],
   "source": [
    "df['AddHs'] = df['Molecule'].apply(lambda x : AllChem.AddHs(x))\n",
    "df['3D'] = df['AddHs'].apply(lambda x : AllChem.EmbedMolecule(x, AllChem.ETKDGv3()))\n",
    "# df['NPR1'] = df['AddHs'].apply(lambda x : Descriptors3D.NPR1(x))\n",
    "# df['NPR2'] = df['AddHs'].apply(lambda x : Descriptors3D.NPR2(x))\n",
    "df['AddHs'] = df['3D'].apply(lambda x : AllChem.RemoveHs(x))\n",
    "Draw.MolToImage(df['AddHs'].iloc[0])\n"
   ]
  },
  {
   "cell_type": "code",
   "execution_count": 31,
   "metadata": {},
   "outputs": [
    {
     "data": {
      "application/vnd.plotly.v1+json": {
       "config": {
        "plotlyServerURL": "https://plot.ly"
       },
       "data": [
        {
         "hovertemplate": "NPR1=%{x}<br>NPR2=%{y}<extra></extra>",
         "legendgroup": "",
         "marker": {
          "color": "#636efa",
          "opacity": 0.5,
          "symbol": "circle"
         },
         "mode": "markers",
         "name": "",
         "orientation": "v",
         "showlegend": false,
         "type": "scatter",
         "x": [
          0.08636756297941253,
          0.07756546954882823,
          0.3909378864294626,
          0.12788049963951742,
          0.38725802762741973,
          0.5180261287632385,
          0.07188566899703122,
          0.11074136281209289,
          0.3355740359691521,
          0.4727444337272259,
          0.35095661191397026,
          0.1408438288589632,
          0.2707128649300486,
          0.12498470482877565,
          0.08848650155028544,
          0.09033628328291356,
          0.20735131841500065,
          0.07134084884588915,
          0.0757916765120284,
          0.1487438604144444,
          0.35461843749627303,
          0.09406450250529691,
          0.09260913433817088,
          0.06628082792805519,
          0.21641798656370806,
          0.09028143244083103,
          0.4791738260531028,
          0.10381795227418143,
          0.0939865840354731,
          0.05578402996141648,
          0.10718794175592208,
          0.5190243867436172,
          0.22514777014373324,
          0.08902600869814674,
          0.06626305975743678,
          0.47532463944384334,
          0.5097450883969842,
          0.5035472075400791
         ],
         "xaxis": "x",
         "y": [
          0.9713430496803115,
          0.9292064200519162,
          0.7734089400867531,
          0.948454213614183,
          0.7377468696822338,
          0.5953965158163161,
          0.9643165931444962,
          0.9529477188517456,
          0.7251921073959249,
          0.6122270364825685,
          0.7900388734162885,
          0.9311409665406252,
          0.8243740606383086,
          0.9631110685251953,
          0.9814600436682894,
          0.950501933868303,
          0.8731339651629594,
          0.958764268507889,
          0.9587189230746649,
          0.907450220369839,
          0.7931428035326867,
          0.9492204622461974,
          0.9709063600287149,
          0.9827224831914134,
          0.8169037327466622,
          0.957164843848601,
          0.6042340253369684,
          0.9041281310932348,
          0.9252200852203074,
          0.9747296153876437,
          0.9523906610903503,
          0.6009022397974783,
          0.881186934147825,
          0.9730765695008399,
          0.9734027512010464,
          0.6640768337940882,
          0.6192776118934414,
          0.6433549781942736
         ],
         "yaxis": "y"
        }
       ],
       "layout": {
        "legend": {
         "tracegroupgap": 0
        },
        "margin": {
         "t": 60
        },
        "template": {
         "data": {
          "bar": [
           {
            "error_x": {
             "color": "#2a3f5f"
            },
            "error_y": {
             "color": "#2a3f5f"
            },
            "marker": {
             "line": {
              "color": "#E5ECF6",
              "width": 0.5
             },
             "pattern": {
              "fillmode": "overlay",
              "size": 10,
              "solidity": 0.2
             }
            },
            "type": "bar"
           }
          ],
          "barpolar": [
           {
            "marker": {
             "line": {
              "color": "#E5ECF6",
              "width": 0.5
             },
             "pattern": {
              "fillmode": "overlay",
              "size": 10,
              "solidity": 0.2
             }
            },
            "type": "barpolar"
           }
          ],
          "carpet": [
           {
            "aaxis": {
             "endlinecolor": "#2a3f5f",
             "gridcolor": "white",
             "linecolor": "white",
             "minorgridcolor": "white",
             "startlinecolor": "#2a3f5f"
            },
            "baxis": {
             "endlinecolor": "#2a3f5f",
             "gridcolor": "white",
             "linecolor": "white",
             "minorgridcolor": "white",
             "startlinecolor": "#2a3f5f"
            },
            "type": "carpet"
           }
          ],
          "choropleth": [
           {
            "colorbar": {
             "outlinewidth": 0,
             "ticks": ""
            },
            "type": "choropleth"
           }
          ],
          "contour": [
           {
            "colorbar": {
             "outlinewidth": 0,
             "ticks": ""
            },
            "colorscale": [
             [
              0,
              "#0d0887"
             ],
             [
              0.1111111111111111,
              "#46039f"
             ],
             [
              0.2222222222222222,
              "#7201a8"
             ],
             [
              0.3333333333333333,
              "#9c179e"
             ],
             [
              0.4444444444444444,
              "#bd3786"
             ],
             [
              0.5555555555555556,
              "#d8576b"
             ],
             [
              0.6666666666666666,
              "#ed7953"
             ],
             [
              0.7777777777777778,
              "#fb9f3a"
             ],
             [
              0.8888888888888888,
              "#fdca26"
             ],
             [
              1,
              "#f0f921"
             ]
            ],
            "type": "contour"
           }
          ],
          "contourcarpet": [
           {
            "colorbar": {
             "outlinewidth": 0,
             "ticks": ""
            },
            "type": "contourcarpet"
           }
          ],
          "heatmap": [
           {
            "colorbar": {
             "outlinewidth": 0,
             "ticks": ""
            },
            "colorscale": [
             [
              0,
              "#0d0887"
             ],
             [
              0.1111111111111111,
              "#46039f"
             ],
             [
              0.2222222222222222,
              "#7201a8"
             ],
             [
              0.3333333333333333,
              "#9c179e"
             ],
             [
              0.4444444444444444,
              "#bd3786"
             ],
             [
              0.5555555555555556,
              "#d8576b"
             ],
             [
              0.6666666666666666,
              "#ed7953"
             ],
             [
              0.7777777777777778,
              "#fb9f3a"
             ],
             [
              0.8888888888888888,
              "#fdca26"
             ],
             [
              1,
              "#f0f921"
             ]
            ],
            "type": "heatmap"
           }
          ],
          "heatmapgl": [
           {
            "colorbar": {
             "outlinewidth": 0,
             "ticks": ""
            },
            "colorscale": [
             [
              0,
              "#0d0887"
             ],
             [
              0.1111111111111111,
              "#46039f"
             ],
             [
              0.2222222222222222,
              "#7201a8"
             ],
             [
              0.3333333333333333,
              "#9c179e"
             ],
             [
              0.4444444444444444,
              "#bd3786"
             ],
             [
              0.5555555555555556,
              "#d8576b"
             ],
             [
              0.6666666666666666,
              "#ed7953"
             ],
             [
              0.7777777777777778,
              "#fb9f3a"
             ],
             [
              0.8888888888888888,
              "#fdca26"
             ],
             [
              1,
              "#f0f921"
             ]
            ],
            "type": "heatmapgl"
           }
          ],
          "histogram": [
           {
            "marker": {
             "pattern": {
              "fillmode": "overlay",
              "size": 10,
              "solidity": 0.2
             }
            },
            "type": "histogram"
           }
          ],
          "histogram2d": [
           {
            "colorbar": {
             "outlinewidth": 0,
             "ticks": ""
            },
            "colorscale": [
             [
              0,
              "#0d0887"
             ],
             [
              0.1111111111111111,
              "#46039f"
             ],
             [
              0.2222222222222222,
              "#7201a8"
             ],
             [
              0.3333333333333333,
              "#9c179e"
             ],
             [
              0.4444444444444444,
              "#bd3786"
             ],
             [
              0.5555555555555556,
              "#d8576b"
             ],
             [
              0.6666666666666666,
              "#ed7953"
             ],
             [
              0.7777777777777778,
              "#fb9f3a"
             ],
             [
              0.8888888888888888,
              "#fdca26"
             ],
             [
              1,
              "#f0f921"
             ]
            ],
            "type": "histogram2d"
           }
          ],
          "histogram2dcontour": [
           {
            "colorbar": {
             "outlinewidth": 0,
             "ticks": ""
            },
            "colorscale": [
             [
              0,
              "#0d0887"
             ],
             [
              0.1111111111111111,
              "#46039f"
             ],
             [
              0.2222222222222222,
              "#7201a8"
             ],
             [
              0.3333333333333333,
              "#9c179e"
             ],
             [
              0.4444444444444444,
              "#bd3786"
             ],
             [
              0.5555555555555556,
              "#d8576b"
             ],
             [
              0.6666666666666666,
              "#ed7953"
             ],
             [
              0.7777777777777778,
              "#fb9f3a"
             ],
             [
              0.8888888888888888,
              "#fdca26"
             ],
             [
              1,
              "#f0f921"
             ]
            ],
            "type": "histogram2dcontour"
           }
          ],
          "mesh3d": [
           {
            "colorbar": {
             "outlinewidth": 0,
             "ticks": ""
            },
            "type": "mesh3d"
           }
          ],
          "parcoords": [
           {
            "line": {
             "colorbar": {
              "outlinewidth": 0,
              "ticks": ""
             }
            },
            "type": "parcoords"
           }
          ],
          "pie": [
           {
            "automargin": true,
            "type": "pie"
           }
          ],
          "scatter": [
           {
            "fillpattern": {
             "fillmode": "overlay",
             "size": 10,
             "solidity": 0.2
            },
            "type": "scatter"
           }
          ],
          "scatter3d": [
           {
            "line": {
             "colorbar": {
              "outlinewidth": 0,
              "ticks": ""
             }
            },
            "marker": {
             "colorbar": {
              "outlinewidth": 0,
              "ticks": ""
             }
            },
            "type": "scatter3d"
           }
          ],
          "scattercarpet": [
           {
            "marker": {
             "colorbar": {
              "outlinewidth": 0,
              "ticks": ""
             }
            },
            "type": "scattercarpet"
           }
          ],
          "scattergeo": [
           {
            "marker": {
             "colorbar": {
              "outlinewidth": 0,
              "ticks": ""
             }
            },
            "type": "scattergeo"
           }
          ],
          "scattergl": [
           {
            "marker": {
             "colorbar": {
              "outlinewidth": 0,
              "ticks": ""
             }
            },
            "type": "scattergl"
           }
          ],
          "scattermapbox": [
           {
            "marker": {
             "colorbar": {
              "outlinewidth": 0,
              "ticks": ""
             }
            },
            "type": "scattermapbox"
           }
          ],
          "scatterpolar": [
           {
            "marker": {
             "colorbar": {
              "outlinewidth": 0,
              "ticks": ""
             }
            },
            "type": "scatterpolar"
           }
          ],
          "scatterpolargl": [
           {
            "marker": {
             "colorbar": {
              "outlinewidth": 0,
              "ticks": ""
             }
            },
            "type": "scatterpolargl"
           }
          ],
          "scatterternary": [
           {
            "marker": {
             "colorbar": {
              "outlinewidth": 0,
              "ticks": ""
             }
            },
            "type": "scatterternary"
           }
          ],
          "surface": [
           {
            "colorbar": {
             "outlinewidth": 0,
             "ticks": ""
            },
            "colorscale": [
             [
              0,
              "#0d0887"
             ],
             [
              0.1111111111111111,
              "#46039f"
             ],
             [
              0.2222222222222222,
              "#7201a8"
             ],
             [
              0.3333333333333333,
              "#9c179e"
             ],
             [
              0.4444444444444444,
              "#bd3786"
             ],
             [
              0.5555555555555556,
              "#d8576b"
             ],
             [
              0.6666666666666666,
              "#ed7953"
             ],
             [
              0.7777777777777778,
              "#fb9f3a"
             ],
             [
              0.8888888888888888,
              "#fdca26"
             ],
             [
              1,
              "#f0f921"
             ]
            ],
            "type": "surface"
           }
          ],
          "table": [
           {
            "cells": {
             "fill": {
              "color": "#EBF0F8"
             },
             "line": {
              "color": "white"
             }
            },
            "header": {
             "fill": {
              "color": "#C8D4E3"
             },
             "line": {
              "color": "white"
             }
            },
            "type": "table"
           }
          ]
         },
         "layout": {
          "annotationdefaults": {
           "arrowcolor": "#2a3f5f",
           "arrowhead": 0,
           "arrowwidth": 1
          },
          "autotypenumbers": "strict",
          "coloraxis": {
           "colorbar": {
            "outlinewidth": 0,
            "ticks": ""
           }
          },
          "colorscale": {
           "diverging": [
            [
             0,
             "#8e0152"
            ],
            [
             0.1,
             "#c51b7d"
            ],
            [
             0.2,
             "#de77ae"
            ],
            [
             0.3,
             "#f1b6da"
            ],
            [
             0.4,
             "#fde0ef"
            ],
            [
             0.5,
             "#f7f7f7"
            ],
            [
             0.6,
             "#e6f5d0"
            ],
            [
             0.7,
             "#b8e186"
            ],
            [
             0.8,
             "#7fbc41"
            ],
            [
             0.9,
             "#4d9221"
            ],
            [
             1,
             "#276419"
            ]
           ],
           "sequential": [
            [
             0,
             "#0d0887"
            ],
            [
             0.1111111111111111,
             "#46039f"
            ],
            [
             0.2222222222222222,
             "#7201a8"
            ],
            [
             0.3333333333333333,
             "#9c179e"
            ],
            [
             0.4444444444444444,
             "#bd3786"
            ],
            [
             0.5555555555555556,
             "#d8576b"
            ],
            [
             0.6666666666666666,
             "#ed7953"
            ],
            [
             0.7777777777777778,
             "#fb9f3a"
            ],
            [
             0.8888888888888888,
             "#fdca26"
            ],
            [
             1,
             "#f0f921"
            ]
           ],
           "sequentialminus": [
            [
             0,
             "#0d0887"
            ],
            [
             0.1111111111111111,
             "#46039f"
            ],
            [
             0.2222222222222222,
             "#7201a8"
            ],
            [
             0.3333333333333333,
             "#9c179e"
            ],
            [
             0.4444444444444444,
             "#bd3786"
            ],
            [
             0.5555555555555556,
             "#d8576b"
            ],
            [
             0.6666666666666666,
             "#ed7953"
            ],
            [
             0.7777777777777778,
             "#fb9f3a"
            ],
            [
             0.8888888888888888,
             "#fdca26"
            ],
            [
             1,
             "#f0f921"
            ]
           ]
          },
          "colorway": [
           "#636efa",
           "#EF553B",
           "#00cc96",
           "#ab63fa",
           "#FFA15A",
           "#19d3f3",
           "#FF6692",
           "#B6E880",
           "#FF97FF",
           "#FECB52"
          ],
          "font": {
           "color": "#2a3f5f"
          },
          "geo": {
           "bgcolor": "white",
           "lakecolor": "white",
           "landcolor": "#E5ECF6",
           "showlakes": true,
           "showland": true,
           "subunitcolor": "white"
          },
          "hoverlabel": {
           "align": "left"
          },
          "hovermode": "closest",
          "mapbox": {
           "style": "light"
          },
          "paper_bgcolor": "white",
          "plot_bgcolor": "#E5ECF6",
          "polar": {
           "angularaxis": {
            "gridcolor": "white",
            "linecolor": "white",
            "ticks": ""
           },
           "bgcolor": "#E5ECF6",
           "radialaxis": {
            "gridcolor": "white",
            "linecolor": "white",
            "ticks": ""
           }
          },
          "scene": {
           "xaxis": {
            "backgroundcolor": "#E5ECF6",
            "gridcolor": "white",
            "gridwidth": 2,
            "linecolor": "white",
            "showbackground": true,
            "ticks": "",
            "zerolinecolor": "white"
           },
           "yaxis": {
            "backgroundcolor": "#E5ECF6",
            "gridcolor": "white",
            "gridwidth": 2,
            "linecolor": "white",
            "showbackground": true,
            "ticks": "",
            "zerolinecolor": "white"
           },
           "zaxis": {
            "backgroundcolor": "#E5ECF6",
            "gridcolor": "white",
            "gridwidth": 2,
            "linecolor": "white",
            "showbackground": true,
            "ticks": "",
            "zerolinecolor": "white"
           }
          },
          "shapedefaults": {
           "line": {
            "color": "#2a3f5f"
           }
          },
          "ternary": {
           "aaxis": {
            "gridcolor": "white",
            "linecolor": "white",
            "ticks": ""
           },
           "baxis": {
            "gridcolor": "white",
            "linecolor": "white",
            "ticks": ""
           },
           "bgcolor": "#E5ECF6",
           "caxis": {
            "gridcolor": "white",
            "linecolor": "white",
            "ticks": ""
           }
          },
          "title": {
           "x": 0.05
          },
          "xaxis": {
           "automargin": true,
           "gridcolor": "white",
           "linecolor": "white",
           "ticks": "",
           "title": {
            "standoff": 15
           },
           "zerolinecolor": "white",
           "zerolinewidth": 2
          },
          "yaxis": {
           "automargin": true,
           "gridcolor": "white",
           "linecolor": "white",
           "ticks": "",
           "title": {
            "standoff": 15
           },
           "zerolinecolor": "white",
           "zerolinewidth": 2
          }
         }
        },
        "title": {
         "text": "LLE v.s. MW"
        },
        "width": 600,
        "xaxis": {
         "anchor": "y",
         "domain": [
          0,
          1
         ],
         "range": [
          0,
          1
         ],
         "title": {
          "text": "NPR1"
         }
        },
        "yaxis": {
         "anchor": "x",
         "domain": [
          0,
          1
         ],
         "title": {
          "text": "NPR2"
         }
        }
       }
      }
     },
     "metadata": {},
     "output_type": "display_data"
    }
   ],
   "source": [
    "import plotly.express as px\n",
    "fig = px.scatter(df,\n",
    "    x='NPR1',\n",
    "    y='NPR2',\n",
    "    # color='Molecule Max Phase',\n",
    "    # color='AlogP',\n",
    "    # color='Document ChEMBL ID',\n",
    "    # color='Murcko_generic_SMILES',\n",
    "    # size='pChEMBL Value',\n",
    "    # hover_name='Molecule ChEMBL ID',\n",
    "    # hover_data=['Document ChEMBL ID', df.index],\n",
    "    opacity=0.5\n",
    ")\n",
    "fig.update_layout(\n",
    "    title='LLE v.s. MW',\n",
    "    # showlegend=False, # Legendのon/off\n",
    "    width=600,\n",
    "    # height=700,\n",
    "    xaxis=dict(range= (0,1))\n",
    ") \n",
    "fig.update_xaxes\n",
    "fig.show()\n"
   ]
  },
  {
   "cell_type": "code",
   "execution_count": 34,
   "metadata": {},
   "outputs": [
    {
     "data": {
      "application/vnd.plotly.v1+json": {
       "config": {
        "plotlyServerURL": "https://plot.ly"
       },
       "data": [
        {
         "hovertemplate": "PMI1=%{x}<br>PMI3=%{y}<br>PMI2=%{z}<extra></extra>",
         "legendgroup": "",
         "marker": {
          "color": "#636efa",
          "opacity": 0.5,
          "symbol": "circle"
         },
         "mode": "markers",
         "name": "",
         "scene": "scene",
         "showlegend": false,
         "type": "scatter3d",
         "x": [
          1812.3463175189859,
          978.2520818504678,
          4587.18032948844,
          870.9320328378664,
          4129.785679836232,
          3280.1926566816023,
          1227.3513857517623,
          1096.6298501455674,
          3903.469313633024,
          2669.6816246184685,
          3993.8229330474346,
          1141.9109208987443,
          5758.903083567245,
          1282.8511869179804,
          1110.7111936518118,
          1135.8491446945668,
          709.8598049502144,
          3074.2752375725922,
          1407.8251348613105,
          2395.173788312085,
          3938.3880492990293,
          3287.2195065487713,
          656.03698894194,
          1881.082223685231,
          4407.655925234177,
          1517.5299226382165,
          2699.683646638056,
          770.5968148705813,
          2543.663796195091,
          2140.831153124193,
          2260.8229549948355,
          3288.069491217583,
          3033.228649608592,
          6461.086332112874,
          5131.1111865518005,
          3257.755940159638,
          3274.1391030001055,
          3164.3439632266295
         ],
         "y": [
          25162.95008393639,
          9790.992241758584,
          9525.989709624673,
          9832.506446746196,
          10237.438934462089,
          6432.02469358301,
          13079.391818398295,
          10471.318492789163,
          13683.523516694899,
          5981.664968167872,
          11538.46543528213,
          8958.20931545872,
          14609.031758063284,
          10767.344298778795,
          13788.42747372094,
          10467.718152436286,
          4720.19318432509,
          23523.440816585626,
          17239.598372996712,
          14248.210070779001,
          10562.541944663297,
          34514.6664798957,
          8038.633623870773,
          23725.280896506327,
          10391.598605749008,
          14069.51198939049,
          5658.552487481729,
          10048.920487737001,
          21927.01162983893,
          22682.762479751673,
          16467.841759837946,
          6424.973035180233,
          11828.979350629448,
          54843.26010946252,
          79258.40442035669,
          6406.976031338529,
          6336.932126400728,
          6383.1404884713675
         ],
         "z": [
          24170.84489129135,
          8880.150881847982,
          6265.901652544972,
          9151.022096180626,
          7684.322644971271,
          3840.315599350944,
          12918.301742151414,
          10068.333316507074,
          10464.017797031238,
          3631.462615573925,
          9060.898445490126,
          8655.065256601742,
          10789.168018432982,
          10396.710665158178,
          13292.139671772153,
          10070.894952455095,
          4574.178507190023,
          22438.286261148292,
          16893.743217670126,
          12636.602566247531,
          8048.149869811006,
          32569.888274778103,
          7521.408839528685,
          22575.65314087738,
          8789.123728635233,
          13832.165682962499,
          3527.857196193548,
          9331.14654074874,
          20731.598580195965,
          21446.05096136756,
          16096.170603921264,
          3816.339956195672,
          10036.511825202797,
          53911.689795733386,
          76596.43340031445,
          3849.884885158148,
          3852.6333168863084,
          3947.0861662694756
         ]
        }
       ],
       "layout": {
        "height": 500,
        "legend": {
         "tracegroupgap": 0
        },
        "margin": {
         "t": 60
        },
        "scene": {
         "domain": {
          "x": [
           0,
           1
          ],
          "y": [
           0,
           1
          ]
         },
         "xaxis": {
          "title": {
           "text": "PMI1"
          }
         },
         "yaxis": {
          "title": {
           "text": "PMI3"
          }
         },
         "zaxis": {
          "title": {
           "text": "PMI2"
          }
         }
        },
        "template": {
         "data": {
          "bar": [
           {
            "error_x": {
             "color": "#2a3f5f"
            },
            "error_y": {
             "color": "#2a3f5f"
            },
            "marker": {
             "line": {
              "color": "#E5ECF6",
              "width": 0.5
             },
             "pattern": {
              "fillmode": "overlay",
              "size": 10,
              "solidity": 0.2
             }
            },
            "type": "bar"
           }
          ],
          "barpolar": [
           {
            "marker": {
             "line": {
              "color": "#E5ECF6",
              "width": 0.5
             },
             "pattern": {
              "fillmode": "overlay",
              "size": 10,
              "solidity": 0.2
             }
            },
            "type": "barpolar"
           }
          ],
          "carpet": [
           {
            "aaxis": {
             "endlinecolor": "#2a3f5f",
             "gridcolor": "white",
             "linecolor": "white",
             "minorgridcolor": "white",
             "startlinecolor": "#2a3f5f"
            },
            "baxis": {
             "endlinecolor": "#2a3f5f",
             "gridcolor": "white",
             "linecolor": "white",
             "minorgridcolor": "white",
             "startlinecolor": "#2a3f5f"
            },
            "type": "carpet"
           }
          ],
          "choropleth": [
           {
            "colorbar": {
             "outlinewidth": 0,
             "ticks": ""
            },
            "type": "choropleth"
           }
          ],
          "contour": [
           {
            "colorbar": {
             "outlinewidth": 0,
             "ticks": ""
            },
            "colorscale": [
             [
              0,
              "#0d0887"
             ],
             [
              0.1111111111111111,
              "#46039f"
             ],
             [
              0.2222222222222222,
              "#7201a8"
             ],
             [
              0.3333333333333333,
              "#9c179e"
             ],
             [
              0.4444444444444444,
              "#bd3786"
             ],
             [
              0.5555555555555556,
              "#d8576b"
             ],
             [
              0.6666666666666666,
              "#ed7953"
             ],
             [
              0.7777777777777778,
              "#fb9f3a"
             ],
             [
              0.8888888888888888,
              "#fdca26"
             ],
             [
              1,
              "#f0f921"
             ]
            ],
            "type": "contour"
           }
          ],
          "contourcarpet": [
           {
            "colorbar": {
             "outlinewidth": 0,
             "ticks": ""
            },
            "type": "contourcarpet"
           }
          ],
          "heatmap": [
           {
            "colorbar": {
             "outlinewidth": 0,
             "ticks": ""
            },
            "colorscale": [
             [
              0,
              "#0d0887"
             ],
             [
              0.1111111111111111,
              "#46039f"
             ],
             [
              0.2222222222222222,
              "#7201a8"
             ],
             [
              0.3333333333333333,
              "#9c179e"
             ],
             [
              0.4444444444444444,
              "#bd3786"
             ],
             [
              0.5555555555555556,
              "#d8576b"
             ],
             [
              0.6666666666666666,
              "#ed7953"
             ],
             [
              0.7777777777777778,
              "#fb9f3a"
             ],
             [
              0.8888888888888888,
              "#fdca26"
             ],
             [
              1,
              "#f0f921"
             ]
            ],
            "type": "heatmap"
           }
          ],
          "heatmapgl": [
           {
            "colorbar": {
             "outlinewidth": 0,
             "ticks": ""
            },
            "colorscale": [
             [
              0,
              "#0d0887"
             ],
             [
              0.1111111111111111,
              "#46039f"
             ],
             [
              0.2222222222222222,
              "#7201a8"
             ],
             [
              0.3333333333333333,
              "#9c179e"
             ],
             [
              0.4444444444444444,
              "#bd3786"
             ],
             [
              0.5555555555555556,
              "#d8576b"
             ],
             [
              0.6666666666666666,
              "#ed7953"
             ],
             [
              0.7777777777777778,
              "#fb9f3a"
             ],
             [
              0.8888888888888888,
              "#fdca26"
             ],
             [
              1,
              "#f0f921"
             ]
            ],
            "type": "heatmapgl"
           }
          ],
          "histogram": [
           {
            "marker": {
             "pattern": {
              "fillmode": "overlay",
              "size": 10,
              "solidity": 0.2
             }
            },
            "type": "histogram"
           }
          ],
          "histogram2d": [
           {
            "colorbar": {
             "outlinewidth": 0,
             "ticks": ""
            },
            "colorscale": [
             [
              0,
              "#0d0887"
             ],
             [
              0.1111111111111111,
              "#46039f"
             ],
             [
              0.2222222222222222,
              "#7201a8"
             ],
             [
              0.3333333333333333,
              "#9c179e"
             ],
             [
              0.4444444444444444,
              "#bd3786"
             ],
             [
              0.5555555555555556,
              "#d8576b"
             ],
             [
              0.6666666666666666,
              "#ed7953"
             ],
             [
              0.7777777777777778,
              "#fb9f3a"
             ],
             [
              0.8888888888888888,
              "#fdca26"
             ],
             [
              1,
              "#f0f921"
             ]
            ],
            "type": "histogram2d"
           }
          ],
          "histogram2dcontour": [
           {
            "colorbar": {
             "outlinewidth": 0,
             "ticks": ""
            },
            "colorscale": [
             [
              0,
              "#0d0887"
             ],
             [
              0.1111111111111111,
              "#46039f"
             ],
             [
              0.2222222222222222,
              "#7201a8"
             ],
             [
              0.3333333333333333,
              "#9c179e"
             ],
             [
              0.4444444444444444,
              "#bd3786"
             ],
             [
              0.5555555555555556,
              "#d8576b"
             ],
             [
              0.6666666666666666,
              "#ed7953"
             ],
             [
              0.7777777777777778,
              "#fb9f3a"
             ],
             [
              0.8888888888888888,
              "#fdca26"
             ],
             [
              1,
              "#f0f921"
             ]
            ],
            "type": "histogram2dcontour"
           }
          ],
          "mesh3d": [
           {
            "colorbar": {
             "outlinewidth": 0,
             "ticks": ""
            },
            "type": "mesh3d"
           }
          ],
          "parcoords": [
           {
            "line": {
             "colorbar": {
              "outlinewidth": 0,
              "ticks": ""
             }
            },
            "type": "parcoords"
           }
          ],
          "pie": [
           {
            "automargin": true,
            "type": "pie"
           }
          ],
          "scatter": [
           {
            "fillpattern": {
             "fillmode": "overlay",
             "size": 10,
             "solidity": 0.2
            },
            "type": "scatter"
           }
          ],
          "scatter3d": [
           {
            "line": {
             "colorbar": {
              "outlinewidth": 0,
              "ticks": ""
             }
            },
            "marker": {
             "colorbar": {
              "outlinewidth": 0,
              "ticks": ""
             }
            },
            "type": "scatter3d"
           }
          ],
          "scattercarpet": [
           {
            "marker": {
             "colorbar": {
              "outlinewidth": 0,
              "ticks": ""
             }
            },
            "type": "scattercarpet"
           }
          ],
          "scattergeo": [
           {
            "marker": {
             "colorbar": {
              "outlinewidth": 0,
              "ticks": ""
             }
            },
            "type": "scattergeo"
           }
          ],
          "scattergl": [
           {
            "marker": {
             "colorbar": {
              "outlinewidth": 0,
              "ticks": ""
             }
            },
            "type": "scattergl"
           }
          ],
          "scattermapbox": [
           {
            "marker": {
             "colorbar": {
              "outlinewidth": 0,
              "ticks": ""
             }
            },
            "type": "scattermapbox"
           }
          ],
          "scatterpolar": [
           {
            "marker": {
             "colorbar": {
              "outlinewidth": 0,
              "ticks": ""
             }
            },
            "type": "scatterpolar"
           }
          ],
          "scatterpolargl": [
           {
            "marker": {
             "colorbar": {
              "outlinewidth": 0,
              "ticks": ""
             }
            },
            "type": "scatterpolargl"
           }
          ],
          "scatterternary": [
           {
            "marker": {
             "colorbar": {
              "outlinewidth": 0,
              "ticks": ""
             }
            },
            "type": "scatterternary"
           }
          ],
          "surface": [
           {
            "colorbar": {
             "outlinewidth": 0,
             "ticks": ""
            },
            "colorscale": [
             [
              0,
              "#0d0887"
             ],
             [
              0.1111111111111111,
              "#46039f"
             ],
             [
              0.2222222222222222,
              "#7201a8"
             ],
             [
              0.3333333333333333,
              "#9c179e"
             ],
             [
              0.4444444444444444,
              "#bd3786"
             ],
             [
              0.5555555555555556,
              "#d8576b"
             ],
             [
              0.6666666666666666,
              "#ed7953"
             ],
             [
              0.7777777777777778,
              "#fb9f3a"
             ],
             [
              0.8888888888888888,
              "#fdca26"
             ],
             [
              1,
              "#f0f921"
             ]
            ],
            "type": "surface"
           }
          ],
          "table": [
           {
            "cells": {
             "fill": {
              "color": "#EBF0F8"
             },
             "line": {
              "color": "white"
             }
            },
            "header": {
             "fill": {
              "color": "#C8D4E3"
             },
             "line": {
              "color": "white"
             }
            },
            "type": "table"
           }
          ]
         },
         "layout": {
          "annotationdefaults": {
           "arrowcolor": "#2a3f5f",
           "arrowhead": 0,
           "arrowwidth": 1
          },
          "autotypenumbers": "strict",
          "coloraxis": {
           "colorbar": {
            "outlinewidth": 0,
            "ticks": ""
           }
          },
          "colorscale": {
           "diverging": [
            [
             0,
             "#8e0152"
            ],
            [
             0.1,
             "#c51b7d"
            ],
            [
             0.2,
             "#de77ae"
            ],
            [
             0.3,
             "#f1b6da"
            ],
            [
             0.4,
             "#fde0ef"
            ],
            [
             0.5,
             "#f7f7f7"
            ],
            [
             0.6,
             "#e6f5d0"
            ],
            [
             0.7,
             "#b8e186"
            ],
            [
             0.8,
             "#7fbc41"
            ],
            [
             0.9,
             "#4d9221"
            ],
            [
             1,
             "#276419"
            ]
           ],
           "sequential": [
            [
             0,
             "#0d0887"
            ],
            [
             0.1111111111111111,
             "#46039f"
            ],
            [
             0.2222222222222222,
             "#7201a8"
            ],
            [
             0.3333333333333333,
             "#9c179e"
            ],
            [
             0.4444444444444444,
             "#bd3786"
            ],
            [
             0.5555555555555556,
             "#d8576b"
            ],
            [
             0.6666666666666666,
             "#ed7953"
            ],
            [
             0.7777777777777778,
             "#fb9f3a"
            ],
            [
             0.8888888888888888,
             "#fdca26"
            ],
            [
             1,
             "#f0f921"
            ]
           ],
           "sequentialminus": [
            [
             0,
             "#0d0887"
            ],
            [
             0.1111111111111111,
             "#46039f"
            ],
            [
             0.2222222222222222,
             "#7201a8"
            ],
            [
             0.3333333333333333,
             "#9c179e"
            ],
            [
             0.4444444444444444,
             "#bd3786"
            ],
            [
             0.5555555555555556,
             "#d8576b"
            ],
            [
             0.6666666666666666,
             "#ed7953"
            ],
            [
             0.7777777777777778,
             "#fb9f3a"
            ],
            [
             0.8888888888888888,
             "#fdca26"
            ],
            [
             1,
             "#f0f921"
            ]
           ]
          },
          "colorway": [
           "#636efa",
           "#EF553B",
           "#00cc96",
           "#ab63fa",
           "#FFA15A",
           "#19d3f3",
           "#FF6692",
           "#B6E880",
           "#FF97FF",
           "#FECB52"
          ],
          "font": {
           "color": "#2a3f5f"
          },
          "geo": {
           "bgcolor": "white",
           "lakecolor": "white",
           "landcolor": "#E5ECF6",
           "showlakes": true,
           "showland": true,
           "subunitcolor": "white"
          },
          "hoverlabel": {
           "align": "left"
          },
          "hovermode": "closest",
          "mapbox": {
           "style": "light"
          },
          "paper_bgcolor": "white",
          "plot_bgcolor": "#E5ECF6",
          "polar": {
           "angularaxis": {
            "gridcolor": "white",
            "linecolor": "white",
            "ticks": ""
           },
           "bgcolor": "#E5ECF6",
           "radialaxis": {
            "gridcolor": "white",
            "linecolor": "white",
            "ticks": ""
           }
          },
          "scene": {
           "xaxis": {
            "backgroundcolor": "#E5ECF6",
            "gridcolor": "white",
            "gridwidth": 2,
            "linecolor": "white",
            "showbackground": true,
            "ticks": "",
            "zerolinecolor": "white"
           },
           "yaxis": {
            "backgroundcolor": "#E5ECF6",
            "gridcolor": "white",
            "gridwidth": 2,
            "linecolor": "white",
            "showbackground": true,
            "ticks": "",
            "zerolinecolor": "white"
           },
           "zaxis": {
            "backgroundcolor": "#E5ECF6",
            "gridcolor": "white",
            "gridwidth": 2,
            "linecolor": "white",
            "showbackground": true,
            "ticks": "",
            "zerolinecolor": "white"
           }
          },
          "shapedefaults": {
           "line": {
            "color": "#2a3f5f"
           }
          },
          "ternary": {
           "aaxis": {
            "gridcolor": "white",
            "linecolor": "white",
            "ticks": ""
           },
           "baxis": {
            "gridcolor": "white",
            "linecolor": "white",
            "ticks": ""
           },
           "bgcolor": "#E5ECF6",
           "caxis": {
            "gridcolor": "white",
            "linecolor": "white",
            "ticks": ""
           }
          },
          "title": {
           "x": 0.05
          },
          "xaxis": {
           "automargin": true,
           "gridcolor": "white",
           "linecolor": "white",
           "ticks": "",
           "title": {
            "standoff": 15
           },
           "zerolinecolor": "white",
           "zerolinewidth": 2
          },
          "yaxis": {
           "automargin": true,
           "gridcolor": "white",
           "linecolor": "white",
           "ticks": "",
           "title": {
            "standoff": 15
           },
           "zerolinecolor": "white",
           "zerolinewidth": 2
          }
         }
        },
        "width": 500,
        "xaxis": {
         "range": [
          0,
          1
         ]
        }
       }
      }
     },
     "metadata": {},
     "output_type": "display_data"
    }
   ],
   "source": [
    "import plotly.express as px\n",
    "fig = px.scatter_3d(df,\n",
    "                    x='PMI1',\n",
    "                    z='PMI2',\n",
    "                    y='PMI3',\n",
    "                    # color='Document ChEMBL ID',\n",
    "                    # color='Murcko_generic_SMILES',\n",
    "                    # size='pChEMBL Value',\n",
    "                    # hover_name='Molecule ChEMBL ID',\n",
    "                    # hover_data=['Molecule ChEMBL ID',df.index],\n",
    "                    opacity=0.5\n",
    "                    )\n",
    "fig.update_layout(\n",
    "    # showlegend=False, # Legendのon/off\n",
    "    width=500,\n",
    "    height=500,\n",
    "    xaxis=dict(range= (0,1))\n",
    "    ) \n",
    "fig.show()"
   ]
  },
  {
   "cell_type": "code",
   "execution_count": null,
   "metadata": {},
   "outputs": [],
   "source": []
  },
  {
   "cell_type": "code",
   "execution_count": null,
   "metadata": {},
   "outputs": [],
   "source": []
  },
  {
   "cell_type": "code",
   "execution_count": 151,
   "metadata": {},
   "outputs": [],
   "source": [
    "activities = new_client.activity.filter(\n",
    "    target_chembl_id__in='CHEMBL3553',  ##Specify a list of example targets \n",
    "    pchembl_value__gte=5,  ##Specify a minimum threshold of the pChEMBL activity value. Note that pCHEMBL = -log10(IC50, XC50, AC50, Ki, Kd, potency). Greater than or equal to 5 (10um) is a typical minimum rule of thumb for binding activity between a compound and a protein target. \n",
    "    assay_type='B',  ##Only look for Binding Assays\n",
    ")\n",
    "df = pd.json_normalize(activities)"
   ]
  }
 ],
 "metadata": {
  "kernelspec": {
   "display_name": "Python 3.10.6 ('pymol')",
   "language": "python",
   "name": "python3"
  },
  "language_info": {
   "codemirror_mode": {
    "name": "ipython",
    "version": 3
   },
   "file_extension": ".py",
   "mimetype": "text/x-python",
   "name": "python",
   "nbconvert_exporter": "python",
   "pygments_lexer": "ipython3",
   "version": "3.10.6"
  },
  "orig_nbformat": 4,
  "vscode": {
   "interpreter": {
    "hash": "ccd261da9c8ca32c8405b2975246cd7ab0f3455db7e03ddf16b51d50dde3d20e"
   }
  }
 },
 "nbformat": 4,
 "nbformat_minor": 2
}

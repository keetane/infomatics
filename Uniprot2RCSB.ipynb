{
 "cells": [
  {
   "cell_type": "markdown",
   "id": "determined-marathon",
   "metadata": {},
   "source": [
    "# UniprotからPDBを検索する"
   ]
  },
  {
   "cell_type": "code",
   "execution_count": 1,
   "id": "comprehensive-nation",
   "metadata": {},
   "outputs": [],
   "source": [
    "import pandas as pd\n",
    "from urllib.request import urlopen\n",
    "import numpy as np\n",
    "from lxml import etree\n",
    "from Bio import SeqIO\n",
    "from Bio.PDB import PDBList as pdbl\n",
    "import urllib.parse\n",
    "import urllib.request\n",
    "import json"
   ]
  },
  {
   "cell_type": "markdown",
   "id": "numerous-alloy",
   "metadata": {},
   "source": [
    "### Target名をUniprotで検索"
   ]
  },
  {
   "cell_type": "code",
   "execution_count": 2,
   "id": "vocal-bahamas",
   "metadata": {},
   "outputs": [
    {
     "name": "stdin",
     "output_type": "stream",
     "text": [
      "target name? synuclein\n"
     ]
    },
    {
     "data": {
      "text/html": [
       "<div>\n",
       "<style scoped>\n",
       "    .dataframe tbody tr th:only-of-type {\n",
       "        vertical-align: middle;\n",
       "    }\n",
       "\n",
       "    .dataframe tbody tr th {\n",
       "        vertical-align: top;\n",
       "    }\n",
       "\n",
       "    .dataframe thead th {\n",
       "        text-align: right;\n",
       "    }\n",
       "</style>\n",
       "<table border=\"1\" class=\"dataframe\">\n",
       "  <thead>\n",
       "    <tr style=\"text-align: right;\">\n",
       "      <th></th>\n",
       "      <th>Unnamed: 0</th>\n",
       "      <th>Entry</th>\n",
       "      <th>Entry name</th>\n",
       "      <th>Unnamed: 3</th>\n",
       "      <th>Protein names</th>\n",
       "      <th>Gene names</th>\n",
       "      <th>Organism</th>\n",
       "      <th>Length</th>\n",
       "      <th>e</th>\n",
       "    </tr>\n",
       "  </thead>\n",
       "  <tbody>\n",
       "    <tr>\n",
       "      <th>0</th>\n",
       "      <td>NaN</td>\n",
       "      <td>Q63544</td>\n",
       "      <td>SYUG_RAT</td>\n",
       "      <td>NaN</td>\n",
       "      <td>Gamma-synuclein</td>\n",
       "      <td>Sncg</td>\n",
       "      <td>Rattus norvegicus (Rat)</td>\n",
       "      <td>123</td>\n",
       "      <td>NaN</td>\n",
       "    </tr>\n",
       "    <tr>\n",
       "      <th>1</th>\n",
       "      <td>NaN</td>\n",
       "      <td>P37840</td>\n",
       "      <td>SYUA_HUMAN</td>\n",
       "      <td>NaN</td>\n",
       "      <td>Alpha-synuclein</td>\n",
       "      <td>SNCA NACP, PARK1</td>\n",
       "      <td>Homo sapiens (Human)</td>\n",
       "      <td>140</td>\n",
       "      <td>NaN</td>\n",
       "    </tr>\n",
       "    <tr>\n",
       "      <th>2</th>\n",
       "      <td>NaN</td>\n",
       "      <td>O55042</td>\n",
       "      <td>SYUA_MOUSE</td>\n",
       "      <td>NaN</td>\n",
       "      <td>Alpha-synuclein</td>\n",
       "      <td>Snca Syn</td>\n",
       "      <td>Mus musculus (Mouse)</td>\n",
       "      <td>140</td>\n",
       "      <td>NaN</td>\n",
       "    </tr>\n",
       "    <tr>\n",
       "      <th>3</th>\n",
       "      <td>NaN</td>\n",
       "      <td>O76070</td>\n",
       "      <td>SYUG_HUMAN</td>\n",
       "      <td>NaN</td>\n",
       "      <td>Gamma-synuclein</td>\n",
       "      <td>SNCG BCSG1, PERSYN, PRSN</td>\n",
       "      <td>Homo sapiens (Human)</td>\n",
       "      <td>127</td>\n",
       "      <td>NaN</td>\n",
       "    </tr>\n",
       "    <tr>\n",
       "      <th>4</th>\n",
       "      <td>NaN</td>\n",
       "      <td>Q16143</td>\n",
       "      <td>SYUB_HUMAN</td>\n",
       "      <td>NaN</td>\n",
       "      <td>Beta-synuclein</td>\n",
       "      <td>SNCB</td>\n",
       "      <td>Homo sapiens (Human)</td>\n",
       "      <td>134</td>\n",
       "      <td>NaN</td>\n",
       "    </tr>\n",
       "  </tbody>\n",
       "</table>\n",
       "</div>"
      ],
      "text/plain": [
       "   Unnamed: 0   Entry  Entry name  Unnamed: 3    Protein names  \\\n",
       "0         NaN  Q63544    SYUG_RAT         NaN  Gamma-synuclein   \n",
       "1         NaN  P37840  SYUA_HUMAN         NaN  Alpha-synuclein   \n",
       "2         NaN  O55042  SYUA_MOUSE         NaN  Alpha-synuclein   \n",
       "3         NaN  O76070  SYUG_HUMAN         NaN  Gamma-synuclein   \n",
       "4         NaN  Q16143  SYUB_HUMAN         NaN   Beta-synuclein   \n",
       "\n",
       "                 Gene names                 Organism  Length   e  \n",
       "0                      Sncg  Rattus norvegicus (Rat)     123 NaN  \n",
       "1          SNCA NACP, PARK1     Homo sapiens (Human)     140 NaN  \n",
       "2                  Snca Syn     Mus musculus (Mouse)     140 NaN  \n",
       "3  SNCG BCSG1, PERSYN, PRSN     Homo sapiens (Human)     127 NaN  \n",
       "4                      SNCB     Homo sapiens (Human)     134 NaN  "
      ]
     },
     "execution_count": 2,
     "metadata": {},
     "output_type": "execute_result"
    }
   ],
   "source": [
    "target = input('target name?')\n",
    "uniprot = 'https://www.uniprot.org/uniprot/?query={}&sort=score'.format(target)\n",
    "list = pd.read_html(uniprot)[0]\n",
    "list.head()"
   ]
  },
  {
   "cell_type": "markdown",
   "id": "ready-dress",
   "metadata": {},
   "source": [
    "### TargetのUniprotKB(Entry)を指定してxmlを取得"
   ]
  },
  {
   "cell_type": "code",
   "execution_count": 3,
   "id": "corrected-blackberry",
   "metadata": {},
   "outputs": [
    {
     "name": "stdin",
     "output_type": "stream",
     "text": [
      "rowID?  1\n"
     ]
    }
   ],
   "source": [
    "rowID = input('rowID? ')\n",
    "UniprotKB = list['Entry'][int(rowID)]\n",
    "handle = urlopen(\"http://www.uniprot.org/uniprot/{}.xml\".format(UniprotKB))\n",
    "record = SeqIO.read(handle, \"uniprot-xml\")\n",
    "# print(record)"
   ]
  },
  {
   "cell_type": "markdown",
   "id": "thermal-serve",
   "metadata": {},
   "source": [
    "### xmlの一部をDataFrameに変換"
   ]
  },
  {
   "cell_type": "code",
   "execution_count": 4,
   "id": "stopped-unknown",
   "metadata": {},
   "outputs": [],
   "source": [
    "dbx = record.dbxrefs\n",
    "dfIO = pd.DataFrame(dbx)\n",
    "df = dfIO[0].str.split(':', expand=True)"
   ]
  },
  {
   "cell_type": "markdown",
   "id": "seventh-rainbow",
   "metadata": {},
   "source": [
    "### DataFrameにカラム名をつける"
   ]
  },
  {
   "cell_type": "code",
   "execution_count": 5,
   "id": "civil-tourism",
   "metadata": {},
   "outputs": [
    {
     "data": {
      "text/html": [
       "<div>\n",
       "<style scoped>\n",
       "    .dataframe tbody tr th:only-of-type {\n",
       "        vertical-align: middle;\n",
       "    }\n",
       "\n",
       "    .dataframe tbody tr th {\n",
       "        vertical-align: top;\n",
       "    }\n",
       "\n",
       "    .dataframe thead th {\n",
       "        text-align: right;\n",
       "    }\n",
       "</style>\n",
       "<table border=\"1\" class=\"dataframe\">\n",
       "  <thead>\n",
       "    <tr style=\"text-align: right;\">\n",
       "      <th></th>\n",
       "      <th>name</th>\n",
       "      <th>id</th>\n",
       "      <th>and</th>\n",
       "    </tr>\n",
       "  </thead>\n",
       "  <tbody>\n",
       "    <tr>\n",
       "      <th>0</th>\n",
       "      <td>ABCD</td>\n",
       "      <td>P37840</td>\n",
       "      <td>None</td>\n",
       "    </tr>\n",
       "    <tr>\n",
       "      <th>1</th>\n",
       "      <td>Antibodypedia</td>\n",
       "      <td>14688</td>\n",
       "      <td>None</td>\n",
       "    </tr>\n",
       "    <tr>\n",
       "      <th>2</th>\n",
       "      <td>BMRB</td>\n",
       "      <td>P37840</td>\n",
       "      <td>None</td>\n",
       "    </tr>\n",
       "    <tr>\n",
       "      <th>3</th>\n",
       "      <td>Bgee</td>\n",
       "      <td>ENSG00000145335</td>\n",
       "      <td>None</td>\n",
       "    </tr>\n",
       "    <tr>\n",
       "      <th>4</th>\n",
       "      <td>BindingDB</td>\n",
       "      <td>P37840</td>\n",
       "      <td>None</td>\n",
       "    </tr>\n",
       "    <tr>\n",
       "      <th>...</th>\n",
       "      <td>...</td>\n",
       "      <td>...</td>\n",
       "      <td>...</td>\n",
       "    </tr>\n",
       "    <tr>\n",
       "      <th>418</th>\n",
       "      <td>VEuPathDB</td>\n",
       "      <td>HostDB</td>\n",
       "      <td>ENSG00000145335.15</td>\n",
       "    </tr>\n",
       "    <tr>\n",
       "      <th>419</th>\n",
       "      <td>eggNOG</td>\n",
       "      <td>ENOG502S0Q7</td>\n",
       "      <td>None</td>\n",
       "    </tr>\n",
       "    <tr>\n",
       "      <th>420</th>\n",
       "      <td>iPTMnet</td>\n",
       "      <td>P37840</td>\n",
       "      <td>None</td>\n",
       "    </tr>\n",
       "    <tr>\n",
       "      <th>421</th>\n",
       "      <td>jPOST</td>\n",
       "      <td>P37840</td>\n",
       "      <td>None</td>\n",
       "    </tr>\n",
       "    <tr>\n",
       "      <th>422</th>\n",
       "      <td>neXtProt</td>\n",
       "      <td>NX_P37840</td>\n",
       "      <td>None</td>\n",
       "    </tr>\n",
       "  </tbody>\n",
       "</table>\n",
       "<p>423 rows × 3 columns</p>\n",
       "</div>"
      ],
      "text/plain": [
       "              name               id                 and\n",
       "0             ABCD           P37840                None\n",
       "1    Antibodypedia            14688                None\n",
       "2             BMRB           P37840                None\n",
       "3             Bgee  ENSG00000145335                None\n",
       "4        BindingDB           P37840                None\n",
       "..             ...              ...                 ...\n",
       "418      VEuPathDB           HostDB  ENSG00000145335.15\n",
       "419         eggNOG      ENOG502S0Q7                None\n",
       "420        iPTMnet           P37840                None\n",
       "421          jPOST           P37840                None\n",
       "422       neXtProt        NX_P37840                None\n",
       "\n",
       "[423 rows x 3 columns]"
      ]
     },
     "execution_count": 5,
     "metadata": {},
     "output_type": "execute_result"
    }
   ],
   "source": [
    "df.columns = ['name', 'id', 'and']\n",
    "df"
   ]
  },
  {
   "cell_type": "markdown",
   "id": "military-marijuana",
   "metadata": {},
   "source": [
    "### PDBのrowを指定してlistに格納"
   ]
  },
  {
   "cell_type": "code",
   "execution_count": 6,
   "id": "informed-dodge",
   "metadata": {},
   "outputs": [
    {
     "data": {
      "text/plain": [
       "48"
      ]
     },
     "execution_count": 6,
     "metadata": {},
     "output_type": "execute_result"
    }
   ],
   "source": [
    "dfPDB = df[df['name']=='PDB']\n",
    "PDBs = dfPDB['id'].values.tolist()\n",
    "len(PDBs)"
   ]
  },
  {
   "cell_type": "markdown",
   "id": "comparative-harvard",
   "metadata": {},
   "source": [
    "### target名のdirectoryを作ってPDBを全てDL"
   ]
  },
  {
   "cell_type": "code",
   "execution_count": 10,
   "id": "tutorial-single",
   "metadata": {
    "collapsed": true,
    "jupyter": {
     "outputs_hidden": true
    }
   },
   "outputs": [
    {
     "name": "stderr",
     "output_type": "stream",
     "text": [
      "WARNING: The default download format has changed from PDB to PDBx/mmCif\n"
     ]
    },
    {
     "name": "stdout",
     "output_type": "stream",
     "text": [
      "Downloading PDB structure '1U6D'...\n"
     ]
    },
    {
     "name": "stderr",
     "output_type": "stream",
     "text": [
      "WARNING: The default download format has changed from PDB to PDBx/mmCif\n"
     ]
    },
    {
     "name": "stdout",
     "output_type": "stream",
     "text": [
      "Downloading PDB structure '1ZGK'...\n"
     ]
    },
    {
     "name": "stderr",
     "output_type": "stream",
     "text": [
      "WARNING: The default download format has changed from PDB to PDBx/mmCif\n"
     ]
    },
    {
     "name": "stdout",
     "output_type": "stream",
     "text": [
      "Downloading PDB structure '2FLU'...\n"
     ]
    },
    {
     "name": "stderr",
     "output_type": "stream",
     "text": [
      "WARNING: The default download format has changed from PDB to PDBx/mmCif\n"
     ]
    },
    {
     "name": "stdout",
     "output_type": "stream",
     "text": [
      "Downloading PDB structure '3VNG'...\n"
     ]
    },
    {
     "name": "stderr",
     "output_type": "stream",
     "text": [
      "WARNING: The default download format has changed from PDB to PDBx/mmCif\n"
     ]
    },
    {
     "name": "stdout",
     "output_type": "stream",
     "text": [
      "Downloading PDB structure '3VNH'...\n"
     ]
    },
    {
     "name": "stderr",
     "output_type": "stream",
     "text": [
      "WARNING: The default download format has changed from PDB to PDBx/mmCif\n"
     ]
    },
    {
     "name": "stdout",
     "output_type": "stream",
     "text": [
      "Downloading PDB structure '3ZGC'...\n"
     ]
    },
    {
     "name": "stderr",
     "output_type": "stream",
     "text": [
      "WARNING: The default download format has changed from PDB to PDBx/mmCif\n"
     ]
    },
    {
     "name": "stdout",
     "output_type": "stream",
     "text": [
      "Downloading PDB structure '3ZGD'...\n"
     ]
    },
    {
     "name": "stderr",
     "output_type": "stream",
     "text": [
      "WARNING: The default download format has changed from PDB to PDBx/mmCif\n"
     ]
    },
    {
     "name": "stdout",
     "output_type": "stream",
     "text": [
      "Downloading PDB structure '4CXI'...\n"
     ]
    },
    {
     "name": "stderr",
     "output_type": "stream",
     "text": [
      "WARNING: The default download format has changed from PDB to PDBx/mmCif\n"
     ]
    },
    {
     "name": "stdout",
     "output_type": "stream",
     "text": [
      "Downloading PDB structure '4CXJ'...\n"
     ]
    },
    {
     "name": "stderr",
     "output_type": "stream",
     "text": [
      "WARNING: The default download format has changed from PDB to PDBx/mmCif\n"
     ]
    },
    {
     "name": "stdout",
     "output_type": "stream",
     "text": [
      "Downloading PDB structure '4CXT'...\n"
     ]
    },
    {
     "name": "stderr",
     "output_type": "stream",
     "text": [
      "WARNING: The default download format has changed from PDB to PDBx/mmCif\n"
     ]
    },
    {
     "name": "stdout",
     "output_type": "stream",
     "text": [
      "Downloading PDB structure '4IFJ'...\n"
     ]
    },
    {
     "name": "stderr",
     "output_type": "stream",
     "text": [
      "WARNING: The default download format has changed from PDB to PDBx/mmCif\n"
     ]
    },
    {
     "name": "stdout",
     "output_type": "stream",
     "text": [
      "Downloading PDB structure '4IFL'...\n"
     ]
    },
    {
     "name": "stderr",
     "output_type": "stream",
     "text": [
      "WARNING: The default download format has changed from PDB to PDBx/mmCif\n"
     ]
    },
    {
     "name": "stdout",
     "output_type": "stream",
     "text": [
      "Downloading PDB structure '4IFN'...\n"
     ]
    },
    {
     "name": "stderr",
     "output_type": "stream",
     "text": [
      "WARNING: The default download format has changed from PDB to PDBx/mmCif\n"
     ]
    },
    {
     "name": "stdout",
     "output_type": "stream",
     "text": [
      "Downloading PDB structure '4IN4'...\n"
     ]
    },
    {
     "name": "stderr",
     "output_type": "stream",
     "text": [
      "WARNING: The default download format has changed from PDB to PDBx/mmCif\n"
     ]
    },
    {
     "name": "stdout",
     "output_type": "stream",
     "text": [
      "Downloading PDB structure '4IQK'...\n"
     ]
    },
    {
     "name": "stderr",
     "output_type": "stream",
     "text": [
      "WARNING: The default download format has changed from PDB to PDBx/mmCif\n"
     ]
    },
    {
     "name": "stdout",
     "output_type": "stream",
     "text": [
      "Downloading PDB structure '4L7B'...\n"
     ]
    },
    {
     "name": "stderr",
     "output_type": "stream",
     "text": [
      "WARNING: The default download format has changed from PDB to PDBx/mmCif\n"
     ]
    },
    {
     "name": "stdout",
     "output_type": "stream",
     "text": [
      "Downloading PDB structure '4L7C'...\n"
     ]
    },
    {
     "name": "stderr",
     "output_type": "stream",
     "text": [
      "WARNING: The default download format has changed from PDB to PDBx/mmCif\n"
     ]
    },
    {
     "name": "stdout",
     "output_type": "stream",
     "text": [
      "Downloading PDB structure '4L7D'...\n"
     ]
    },
    {
     "name": "stderr",
     "output_type": "stream",
     "text": [
      "WARNING: The default download format has changed from PDB to PDBx/mmCif\n"
     ]
    },
    {
     "name": "stdout",
     "output_type": "stream",
     "text": [
      "Downloading PDB structure '4N1B'...\n"
     ]
    },
    {
     "name": "stderr",
     "output_type": "stream",
     "text": [
      "WARNING: The default download format has changed from PDB to PDBx/mmCif\n"
     ]
    },
    {
     "name": "stdout",
     "output_type": "stream",
     "text": [
      "Downloading PDB structure '4XMB'...\n"
     ]
    },
    {
     "name": "stderr",
     "output_type": "stream",
     "text": [
      "WARNING: The default download format has changed from PDB to PDBx/mmCif\n"
     ]
    },
    {
     "name": "stdout",
     "output_type": "stream",
     "text": [
      "Downloading PDB structure '5DAD'...\n"
     ]
    },
    {
     "name": "stderr",
     "output_type": "stream",
     "text": [
      "WARNING: The default download format has changed from PDB to PDBx/mmCif\n"
     ]
    },
    {
     "name": "stdout",
     "output_type": "stream",
     "text": [
      "Downloading PDB structure '5DAF'...\n"
     ]
    },
    {
     "name": "stderr",
     "output_type": "stream",
     "text": [
      "WARNING: The default download format has changed from PDB to PDBx/mmCif\n"
     ]
    },
    {
     "name": "stdout",
     "output_type": "stream",
     "text": [
      "Downloading PDB structure '5F72'...\n"
     ]
    },
    {
     "name": "stderr",
     "output_type": "stream",
     "text": [
      "WARNING: The default download format has changed from PDB to PDBx/mmCif\n"
     ]
    },
    {
     "name": "stdout",
     "output_type": "stream",
     "text": [
      "Downloading PDB structure '5GIT'...\n"
     ]
    },
    {
     "name": "stderr",
     "output_type": "stream",
     "text": [
      "WARNING: The default download format has changed from PDB to PDBx/mmCif\n"
     ]
    },
    {
     "name": "stdout",
     "output_type": "stream",
     "text": [
      "Downloading PDB structure '5NLB'...\n"
     ]
    },
    {
     "name": "stderr",
     "output_type": "stream",
     "text": [
      "WARNING: The default download format has changed from PDB to PDBx/mmCif\n"
     ]
    },
    {
     "name": "stdout",
     "output_type": "stream",
     "text": [
      "Downloading PDB structure '5WFL'...\n"
     ]
    },
    {
     "name": "stderr",
     "output_type": "stream",
     "text": [
      "WARNING: The default download format has changed from PDB to PDBx/mmCif\n"
     ]
    },
    {
     "name": "stdout",
     "output_type": "stream",
     "text": [
      "Downloading PDB structure '5WFV'...\n"
     ]
    },
    {
     "name": "stderr",
     "output_type": "stream",
     "text": [
      "WARNING: The default download format has changed from PDB to PDBx/mmCif\n"
     ]
    },
    {
     "name": "stdout",
     "output_type": "stream",
     "text": [
      "Downloading PDB structure '5WG1'...\n"
     ]
    },
    {
     "name": "stderr",
     "output_type": "stream",
     "text": [
      "WARNING: The default download format has changed from PDB to PDBx/mmCif\n"
     ]
    },
    {
     "name": "stdout",
     "output_type": "stream",
     "text": [
      "Downloading PDB structure '5WHL'...\n"
     ]
    },
    {
     "name": "stderr",
     "output_type": "stream",
     "text": [
      "WARNING: The default download format has changed from PDB to PDBx/mmCif\n"
     ]
    },
    {
     "name": "stdout",
     "output_type": "stream",
     "text": [
      "Downloading PDB structure '5WHO'...\n"
     ]
    },
    {
     "name": "stderr",
     "output_type": "stream",
     "text": [
      "WARNING: The default download format has changed from PDB to PDBx/mmCif\n"
     ]
    },
    {
     "name": "stdout",
     "output_type": "stream",
     "text": [
      "Downloading PDB structure '5WIY'...\n"
     ]
    },
    {
     "name": "stderr",
     "output_type": "stream",
     "text": [
      "WARNING: The default download format has changed from PDB to PDBx/mmCif\n"
     ]
    },
    {
     "name": "stdout",
     "output_type": "stream",
     "text": [
      "Downloading PDB structure '5X54'...\n"
     ]
    },
    {
     "name": "stderr",
     "output_type": "stream",
     "text": [
      "WARNING: The default download format has changed from PDB to PDBx/mmCif\n"
     ]
    },
    {
     "name": "stdout",
     "output_type": "stream",
     "text": [
      "Downloading PDB structure '6FFM'...\n"
     ]
    },
    {
     "name": "stderr",
     "output_type": "stream",
     "text": [
      "WARNING: The default download format has changed from PDB to PDBx/mmCif\n"
     ]
    },
    {
     "name": "stdout",
     "output_type": "stream",
     "text": [
      "Downloading PDB structure '6FMP'...\n"
     ]
    },
    {
     "name": "stderr",
     "output_type": "stream",
     "text": [
      "WARNING: The default download format has changed from PDB to PDBx/mmCif\n"
     ]
    },
    {
     "name": "stdout",
     "output_type": "stream",
     "text": [
      "Downloading PDB structure '6FMQ'...\n"
     ]
    },
    {
     "name": "stderr",
     "output_type": "stream",
     "text": [
      "WARNING: The default download format has changed from PDB to PDBx/mmCif\n"
     ]
    },
    {
     "name": "stdout",
     "output_type": "stream",
     "text": [
      "Downloading PDB structure '6HWS'...\n"
     ]
    },
    {
     "name": "stderr",
     "output_type": "stream",
     "text": [
      "WARNING: The default download format has changed from PDB to PDBx/mmCif\n"
     ]
    },
    {
     "name": "stdout",
     "output_type": "stream",
     "text": [
      "Downloading PDB structure '6LRZ'...\n"
     ]
    },
    {
     "name": "stderr",
     "output_type": "stream",
     "text": [
      "WARNING: The default download format has changed from PDB to PDBx/mmCif\n"
     ]
    },
    {
     "name": "stdout",
     "output_type": "stream",
     "text": [
      "Downloading PDB structure '6ROG'...\n"
     ]
    },
    {
     "name": "stderr",
     "output_type": "stream",
     "text": [
      "WARNING: The default download format has changed from PDB to PDBx/mmCif\n"
     ]
    },
    {
     "name": "stdout",
     "output_type": "stream",
     "text": [
      "Downloading PDB structure '6SP1'...\n"
     ]
    },
    {
     "name": "stderr",
     "output_type": "stream",
     "text": [
      "WARNING: The default download format has changed from PDB to PDBx/mmCif\n"
     ]
    },
    {
     "name": "stdout",
     "output_type": "stream",
     "text": [
      "Downloading PDB structure '6SP4'...\n"
     ]
    },
    {
     "name": "stderr",
     "output_type": "stream",
     "text": [
      "WARNING: The default download format has changed from PDB to PDBx/mmCif\n"
     ]
    },
    {
     "name": "stdout",
     "output_type": "stream",
     "text": [
      "Downloading PDB structure '6T7V'...\n"
     ]
    },
    {
     "name": "stderr",
     "output_type": "stream",
     "text": [
      "WARNING: The default download format has changed from PDB to PDBx/mmCif\n"
     ]
    },
    {
     "name": "stdout",
     "output_type": "stream",
     "text": [
      "Downloading PDB structure '6T7Z'...\n"
     ]
    },
    {
     "name": "stderr",
     "output_type": "stream",
     "text": [
      "WARNING: The default download format has changed from PDB to PDBx/mmCif\n"
     ]
    },
    {
     "name": "stdout",
     "output_type": "stream",
     "text": [
      "Downloading PDB structure '6TG8'...\n"
     ]
    },
    {
     "name": "stderr",
     "output_type": "stream",
     "text": [
      "WARNING: The default download format has changed from PDB to PDBx/mmCif\n"
     ]
    },
    {
     "name": "stdout",
     "output_type": "stream",
     "text": [
      "Downloading PDB structure '6TYM'...\n"
     ]
    },
    {
     "name": "stderr",
     "output_type": "stream",
     "text": [
      "WARNING: The default download format has changed from PDB to PDBx/mmCif\n"
     ]
    },
    {
     "name": "stdout",
     "output_type": "stream",
     "text": [
      "Downloading PDB structure '6TYP'...\n"
     ]
    },
    {
     "name": "stderr",
     "output_type": "stream",
     "text": [
      "WARNING: The default download format has changed from PDB to PDBx/mmCif\n"
     ]
    },
    {
     "name": "stdout",
     "output_type": "stream",
     "text": [
      "Downloading PDB structure '6UF0'...\n"
     ]
    },
    {
     "name": "stderr",
     "output_type": "stream",
     "text": [
      "WARNING: The default download format has changed from PDB to PDBx/mmCif\n"
     ]
    },
    {
     "name": "stdout",
     "output_type": "stream",
     "text": [
      "Downloading PDB structure '6V6Z'...\n"
     ]
    },
    {
     "name": "stderr",
     "output_type": "stream",
     "text": [
      "WARNING: The default download format has changed from PDB to PDBx/mmCif\n"
     ]
    },
    {
     "name": "stdout",
     "output_type": "stream",
     "text": [
      "Downloading PDB structure '6W66'...\n"
     ]
    },
    {
     "name": "stderr",
     "output_type": "stream",
     "text": [
      "WARNING: The default download format has changed from PDB to PDBx/mmCif\n"
     ]
    },
    {
     "name": "stdout",
     "output_type": "stream",
     "text": [
      "Downloading PDB structure '6W67'...\n"
     ]
    },
    {
     "name": "stderr",
     "output_type": "stream",
     "text": [
      "WARNING: The default download format has changed from PDB to PDBx/mmCif\n"
     ]
    },
    {
     "name": "stdout",
     "output_type": "stream",
     "text": [
      "Downloading PDB structure '6W68'...\n"
     ]
    },
    {
     "name": "stderr",
     "output_type": "stream",
     "text": [
      "WARNING: The default download format has changed from PDB to PDBx/mmCif\n"
     ]
    },
    {
     "name": "stdout",
     "output_type": "stream",
     "text": [
      "Downloading PDB structure '6W69'...\n"
     ]
    },
    {
     "name": "stderr",
     "output_type": "stream",
     "text": [
      "WARNING: The default download format has changed from PDB to PDBx/mmCif\n"
     ]
    },
    {
     "name": "stdout",
     "output_type": "stream",
     "text": [
      "Downloading PDB structure '6WCQ'...\n"
     ]
    },
    {
     "name": "stderr",
     "output_type": "stream",
     "text": [
      "WARNING: The default download format has changed from PDB to PDBx/mmCif\n"
     ]
    },
    {
     "name": "stdout",
     "output_type": "stream",
     "text": [
      "Downloading PDB structure '6Z6A'...\n",
      "fertig\n"
     ]
    }
   ],
   "source": [
    "for pdb_id in PDBs:\n",
    "        pdbl().retrieve_pdb_file(pdb_id, pdir=target)\n",
    "print('fertig')"
   ]
  },
  {
   "cell_type": "markdown",
   "id": "innocent-turning",
   "metadata": {},
   "source": [
    "# RCSB PDBでTargetを検索\n",
    "https://www.rcsb.org/"
   ]
  },
  {
   "cell_type": "code",
   "execution_count": 7,
   "id": "destroyed-mountain",
   "metadata": {},
   "outputs": [
    {
     "data": {
      "text/html": [
       "<div>\n",
       "<style scoped>\n",
       "    .dataframe tbody tr th:only-of-type {\n",
       "        vertical-align: middle;\n",
       "    }\n",
       "\n",
       "    .dataframe tbody tr th {\n",
       "        vertical-align: top;\n",
       "    }\n",
       "\n",
       "    .dataframe thead tr th {\n",
       "        text-align: left;\n",
       "    }\n",
       "</style>\n",
       "<table border=\"1\" class=\"dataframe\">\n",
       "  <thead>\n",
       "    <tr>\n",
       "      <th></th>\n",
       "      <th colspan=\"6\" halign=\"left\">Entity ID: 1</th>\n",
       "    </tr>\n",
       "    <tr>\n",
       "      <th></th>\n",
       "      <th>Molecule</th>\n",
       "      <th>Chains</th>\n",
       "      <th>Sequence Length</th>\n",
       "      <th>Organism</th>\n",
       "      <th>Details</th>\n",
       "      <th>Image</th>\n",
       "    </tr>\n",
       "  </thead>\n",
       "  <tbody>\n",
       "    <tr>\n",
       "      <th>0</th>\n",
       "      <td>Alpha-synuclein</td>\n",
       "      <td>A</td>\n",
       "      <td>140</td>\n",
       "      <td>Homo sapiens</td>\n",
       "      <td>Mutation(s): 0&amp;nbspGene Names:&amp;nbspSNCA,&amp;nbspN...</td>\n",
       "      <td>NaN</td>\n",
       "    </tr>\n",
       "    <tr>\n",
       "      <th>1</th>\n",
       "      <td>UniProt &amp; NIH Common Fund Data Resources</td>\n",
       "      <td>UniProt &amp; NIH Common Fund Data Resources</td>\n",
       "      <td>UniProt &amp; NIH Common Fund Data Resources</td>\n",
       "      <td>UniProt &amp; NIH Common Fund Data Resources</td>\n",
       "      <td>UniProt &amp; NIH Common Fund Data Resources</td>\n",
       "      <td>UniProt &amp; NIH Common Fund Data Resources</td>\n",
       "    </tr>\n",
       "    <tr>\n",
       "      <th>2</th>\n",
       "      <td>Find proteins for&amp;nbspP37840&amp;nbsp(Homo sapiens...</td>\n",
       "      <td>Find proteins for&amp;nbspP37840&amp;nbsp(Homo sapiens...</td>\n",
       "      <td>Find proteins for&amp;nbspP37840&amp;nbsp(Homo sapiens...</td>\n",
       "      <td>Find proteins for&amp;nbspP37840&amp;nbsp(Homo sapiens...</td>\n",
       "      <td>Find proteins for&amp;nbspP37840&amp;nbsp(Homo sapiens...</td>\n",
       "      <td>Find proteins for&amp;nbspP37840&amp;nbsp(Homo sapiens...</td>\n",
       "    </tr>\n",
       "    <tr>\n",
       "      <th>3</th>\n",
       "      <td>PHAROS: &amp;nbspP37840GTEx: &amp;nbspENSG00000145335</td>\n",
       "      <td>PHAROS: &amp;nbspP37840GTEx: &amp;nbspENSG00000145335</td>\n",
       "      <td>PHAROS: &amp;nbspP37840GTEx: &amp;nbspENSG00000145335</td>\n",
       "      <td>PHAROS: &amp;nbspP37840GTEx: &amp;nbspENSG00000145335</td>\n",
       "      <td>PHAROS: &amp;nbspP37840GTEx: &amp;nbspENSG00000145335</td>\n",
       "      <td>PHAROS: &amp;nbspP37840GTEx: &amp;nbspENSG00000145335</td>\n",
       "    </tr>\n",
       "    <tr>\n",
       "      <th>4</th>\n",
       "      <td>Protein Feature ViewExpand</td>\n",
       "      <td>Protein Feature ViewExpand</td>\n",
       "      <td>Protein Feature ViewExpand</td>\n",
       "      <td>Protein Feature ViewExpand</td>\n",
       "      <td>Protein Feature ViewExpand</td>\n",
       "      <td>Protein Feature ViewExpand</td>\n",
       "    </tr>\n",
       "    <tr>\n",
       "      <th>5</th>\n",
       "      <td>Reference SequencesetTimeout(function(){  Rcsb...</td>\n",
       "      <td>Reference SequencesetTimeout(function(){  Rcsb...</td>\n",
       "      <td>Reference SequencesetTimeout(function(){  Rcsb...</td>\n",
       "      <td>Reference SequencesetTimeout(function(){  Rcsb...</td>\n",
       "      <td>Reference SequencesetTimeout(function(){  Rcsb...</td>\n",
       "      <td>Reference SequencesetTimeout(function(){  Rcsb...</td>\n",
       "    </tr>\n",
       "  </tbody>\n",
       "</table>\n",
       "</div>"
      ],
      "text/plain": [
       "                                        Entity ID: 1  \\\n",
       "                                            Molecule   \n",
       "0                                    Alpha-synuclein   \n",
       "1           UniProt & NIH Common Fund Data Resources   \n",
       "2  Find proteins for&nbspP37840&nbsp(Homo sapiens...   \n",
       "3      PHAROS: &nbspP37840GTEx: &nbspENSG00000145335   \n",
       "4                         Protein Feature ViewExpand   \n",
       "5  Reference SequencesetTimeout(function(){  Rcsb...   \n",
       "\n",
       "                                                      \\\n",
       "                                              Chains   \n",
       "0                                                  A   \n",
       "1           UniProt & NIH Common Fund Data Resources   \n",
       "2  Find proteins for&nbspP37840&nbsp(Homo sapiens...   \n",
       "3      PHAROS: &nbspP37840GTEx: &nbspENSG00000145335   \n",
       "4                         Protein Feature ViewExpand   \n",
       "5  Reference SequencesetTimeout(function(){  Rcsb...   \n",
       "\n",
       "                                                      \\\n",
       "                                     Sequence Length   \n",
       "0                                                140   \n",
       "1           UniProt & NIH Common Fund Data Resources   \n",
       "2  Find proteins for&nbspP37840&nbsp(Homo sapiens...   \n",
       "3      PHAROS: &nbspP37840GTEx: &nbspENSG00000145335   \n",
       "4                         Protein Feature ViewExpand   \n",
       "5  Reference SequencesetTimeout(function(){  Rcsb...   \n",
       "\n",
       "                                                      \\\n",
       "                                            Organism   \n",
       "0                                       Homo sapiens   \n",
       "1           UniProt & NIH Common Fund Data Resources   \n",
       "2  Find proteins for&nbspP37840&nbsp(Homo sapiens...   \n",
       "3      PHAROS: &nbspP37840GTEx: &nbspENSG00000145335   \n",
       "4                         Protein Feature ViewExpand   \n",
       "5  Reference SequencesetTimeout(function(){  Rcsb...   \n",
       "\n",
       "                                                      \\\n",
       "                                             Details   \n",
       "0  Mutation(s): 0&nbspGene Names:&nbspSNCA,&nbspN...   \n",
       "1           UniProt & NIH Common Fund Data Resources   \n",
       "2  Find proteins for&nbspP37840&nbsp(Homo sapiens...   \n",
       "3      PHAROS: &nbspP37840GTEx: &nbspENSG00000145335   \n",
       "4                         Protein Feature ViewExpand   \n",
       "5  Reference SequencesetTimeout(function(){  Rcsb...   \n",
       "\n",
       "                                                      \n",
       "                                               Image  \n",
       "0                                                NaN  \n",
       "1           UniProt & NIH Common Fund Data Resources  \n",
       "2  Find proteins for&nbspP37840&nbsp(Homo sapiens...  \n",
       "3      PHAROS: &nbspP37840GTEx: &nbspENSG00000145335  \n",
       "4                         Protein Feature ViewExpand  \n",
       "5  Reference SequencesetTimeout(function(){  Rcsb...  "
      ]
     },
     "execution_count": 7,
     "metadata": {},
     "output_type": "execute_result"
    }
   ],
   "source": [
    "rcsb_url = 'https://www.rcsb.org/structure/' + PDBs[0]\n",
    "df = pd.read_html(rcsb_url)\n",
    "df[0]"
   ]
  },
  {
   "cell_type": "markdown",
   "id": "resident-innocent",
   "metadata": {},
   "source": [
    "### TargetのFASTAを取得"
   ]
  },
  {
   "cell_type": "code",
   "execution_count": 8,
   "id": "numerous-rouge",
   "metadata": {},
   "outputs": [
    {
     "data": {
      "text/plain": [
       "Seq('MDVFMKGLSKAKEGVVAAAEKTKQGVAEAAGKTKEGVLYVGSKTKEGVVHGVAT...PEA')"
      ]
     },
     "execution_count": 8,
     "metadata": {},
     "output_type": "execute_result"
    }
   ],
   "source": [
    "record.seq"
   ]
  },
  {
   "cell_type": "markdown",
   "id": "continent-above",
   "metadata": {},
   "source": [
    "# 相同性を確認する"
   ]
  },
  {
   "cell_type": "markdown",
   "id": "incomplete-bundle",
   "metadata": {},
   "source": [
    "### ターゲットをUniprotで検索する"
   ]
  },
  {
   "cell_type": "code",
   "execution_count": 9,
   "id": "nominated-glance",
   "metadata": {},
   "outputs": [
    {
     "name": "stdin",
     "output_type": "stream",
     "text": [
      "target name? synuclein\n"
     ]
    },
    {
     "data": {
      "text/html": [
       "<div>\n",
       "<style scoped>\n",
       "    .dataframe tbody tr th:only-of-type {\n",
       "        vertical-align: middle;\n",
       "    }\n",
       "\n",
       "    .dataframe tbody tr th {\n",
       "        vertical-align: top;\n",
       "    }\n",
       "\n",
       "    .dataframe thead th {\n",
       "        text-align: right;\n",
       "    }\n",
       "</style>\n",
       "<table border=\"1\" class=\"dataframe\">\n",
       "  <thead>\n",
       "    <tr style=\"text-align: right;\">\n",
       "      <th></th>\n",
       "      <th>Unnamed: 0</th>\n",
       "      <th>Entry</th>\n",
       "      <th>Entry name</th>\n",
       "      <th>Unnamed: 3</th>\n",
       "      <th>Protein names</th>\n",
       "      <th>Gene names</th>\n",
       "      <th>Organism</th>\n",
       "      <th>Length</th>\n",
       "      <th>e</th>\n",
       "    </tr>\n",
       "  </thead>\n",
       "  <tbody>\n",
       "    <tr>\n",
       "      <th>0</th>\n",
       "      <td>NaN</td>\n",
       "      <td>Q63544</td>\n",
       "      <td>SYUG_RAT</td>\n",
       "      <td>NaN</td>\n",
       "      <td>Gamma-synuclein</td>\n",
       "      <td>Sncg</td>\n",
       "      <td>Rattus norvegicus (Rat)</td>\n",
       "      <td>123</td>\n",
       "      <td>NaN</td>\n",
       "    </tr>\n",
       "    <tr>\n",
       "      <th>1</th>\n",
       "      <td>NaN</td>\n",
       "      <td>P37840</td>\n",
       "      <td>SYUA_HUMAN</td>\n",
       "      <td>NaN</td>\n",
       "      <td>Alpha-synuclein</td>\n",
       "      <td>SNCA NACP, PARK1</td>\n",
       "      <td>Homo sapiens (Human)</td>\n",
       "      <td>140</td>\n",
       "      <td>NaN</td>\n",
       "    </tr>\n",
       "    <tr>\n",
       "      <th>2</th>\n",
       "      <td>NaN</td>\n",
       "      <td>O55042</td>\n",
       "      <td>SYUA_MOUSE</td>\n",
       "      <td>NaN</td>\n",
       "      <td>Alpha-synuclein</td>\n",
       "      <td>Snca Syn</td>\n",
       "      <td>Mus musculus (Mouse)</td>\n",
       "      <td>140</td>\n",
       "      <td>NaN</td>\n",
       "    </tr>\n",
       "    <tr>\n",
       "      <th>3</th>\n",
       "      <td>NaN</td>\n",
       "      <td>O76070</td>\n",
       "      <td>SYUG_HUMAN</td>\n",
       "      <td>NaN</td>\n",
       "      <td>Gamma-synuclein</td>\n",
       "      <td>SNCG BCSG1, PERSYN, PRSN</td>\n",
       "      <td>Homo sapiens (Human)</td>\n",
       "      <td>127</td>\n",
       "      <td>NaN</td>\n",
       "    </tr>\n",
       "    <tr>\n",
       "      <th>4</th>\n",
       "      <td>NaN</td>\n",
       "      <td>Q16143</td>\n",
       "      <td>SYUB_HUMAN</td>\n",
       "      <td>NaN</td>\n",
       "      <td>Beta-synuclein</td>\n",
       "      <td>SNCB</td>\n",
       "      <td>Homo sapiens (Human)</td>\n",
       "      <td>134</td>\n",
       "      <td>NaN</td>\n",
       "    </tr>\n",
       "  </tbody>\n",
       "</table>\n",
       "</div>"
      ],
      "text/plain": [
       "   Unnamed: 0   Entry  Entry name  Unnamed: 3    Protein names  \\\n",
       "0         NaN  Q63544    SYUG_RAT         NaN  Gamma-synuclein   \n",
       "1         NaN  P37840  SYUA_HUMAN         NaN  Alpha-synuclein   \n",
       "2         NaN  O55042  SYUA_MOUSE         NaN  Alpha-synuclein   \n",
       "3         NaN  O76070  SYUG_HUMAN         NaN  Gamma-synuclein   \n",
       "4         NaN  Q16143  SYUB_HUMAN         NaN   Beta-synuclein   \n",
       "\n",
       "                 Gene names                 Organism  Length   e  \n",
       "0                      Sncg  Rattus norvegicus (Rat)     123 NaN  \n",
       "1          SNCA NACP, PARK1     Homo sapiens (Human)     140 NaN  \n",
       "2                  Snca Syn     Mus musculus (Mouse)     140 NaN  \n",
       "3  SNCG BCSG1, PERSYN, PRSN     Homo sapiens (Human)     127 NaN  \n",
       "4                      SNCB     Homo sapiens (Human)     134 NaN  "
      ]
     },
     "execution_count": 9,
     "metadata": {},
     "output_type": "execute_result"
    }
   ],
   "source": [
    "target = input('target name?')\n",
    "uniprot = 'https://www.uniprot.org/uniprot/?query={}&sort=score'.format(target)\n",
    "list = pd.read_html(uniprot)[0]\n",
    "list.head()"
   ]
  },
  {
   "cell_type": "markdown",
   "id": "european-scotland",
   "metadata": {},
   "source": [
    "### HumanにFilteringする"
   ]
  },
  {
   "cell_type": "code",
   "execution_count": 10,
   "id": "minute-ethiopia",
   "metadata": {},
   "outputs": [
    {
     "data": {
      "text/html": [
       "<div>\n",
       "<style scoped>\n",
       "    .dataframe tbody tr th:only-of-type {\n",
       "        vertical-align: middle;\n",
       "    }\n",
       "\n",
       "    .dataframe tbody tr th {\n",
       "        vertical-align: top;\n",
       "    }\n",
       "\n",
       "    .dataframe thead th {\n",
       "        text-align: right;\n",
       "    }\n",
       "</style>\n",
       "<table border=\"1\" class=\"dataframe\">\n",
       "  <thead>\n",
       "    <tr style=\"text-align: right;\">\n",
       "      <th></th>\n",
       "      <th>Unnamed: 0</th>\n",
       "      <th>Entry</th>\n",
       "      <th>Entry name</th>\n",
       "      <th>Unnamed: 3</th>\n",
       "      <th>Protein names</th>\n",
       "      <th>Gene names</th>\n",
       "      <th>Organism</th>\n",
       "      <th>Length</th>\n",
       "      <th>e</th>\n",
       "    </tr>\n",
       "  </thead>\n",
       "  <tbody>\n",
       "    <tr>\n",
       "      <th>1</th>\n",
       "      <td>NaN</td>\n",
       "      <td>P37840</td>\n",
       "      <td>SYUA_HUMAN</td>\n",
       "      <td>NaN</td>\n",
       "      <td>Alpha-synuclein</td>\n",
       "      <td>SNCA NACP, PARK1</td>\n",
       "      <td>Homo sapiens (Human)</td>\n",
       "      <td>140</td>\n",
       "      <td>NaN</td>\n",
       "    </tr>\n",
       "    <tr>\n",
       "      <th>3</th>\n",
       "      <td>NaN</td>\n",
       "      <td>O76070</td>\n",
       "      <td>SYUG_HUMAN</td>\n",
       "      <td>NaN</td>\n",
       "      <td>Gamma-synuclein</td>\n",
       "      <td>SNCG BCSG1, PERSYN, PRSN</td>\n",
       "      <td>Homo sapiens (Human)</td>\n",
       "      <td>127</td>\n",
       "      <td>NaN</td>\n",
       "    </tr>\n",
       "    <tr>\n",
       "      <th>4</th>\n",
       "      <td>NaN</td>\n",
       "      <td>Q16143</td>\n",
       "      <td>SYUB_HUMAN</td>\n",
       "      <td>NaN</td>\n",
       "      <td>Beta-synuclein</td>\n",
       "      <td>SNCB</td>\n",
       "      <td>Homo sapiens (Human)</td>\n",
       "      <td>134</td>\n",
       "      <td>NaN</td>\n",
       "    </tr>\n",
       "    <tr>\n",
       "      <th>15</th>\n",
       "      <td>NaN</td>\n",
       "      <td>Q9Y6H5</td>\n",
       "      <td>SNCAP_HUMAN</td>\n",
       "      <td>NaN</td>\n",
       "      <td>Synphilin-1</td>\n",
       "      <td>SNCAIP</td>\n",
       "      <td>Homo sapiens (Human)</td>\n",
       "      <td>919</td>\n",
       "      <td>NaN</td>\n",
       "    </tr>\n",
       "    <tr>\n",
       "      <th>16</th>\n",
       "      <td>NaN</td>\n",
       "      <td>Q8ND56</td>\n",
       "      <td>LS14A_HUMAN</td>\n",
       "      <td>NaN</td>\n",
       "      <td>Protein LSM14 homolog A</td>\n",
       "      <td>LSM14A C19orf13, FAM61A, RAP55, RAP55A</td>\n",
       "      <td>Homo sapiens (Human)</td>\n",
       "      <td>463</td>\n",
       "      <td>NaN</td>\n",
       "    </tr>\n",
       "  </tbody>\n",
       "</table>\n",
       "</div>"
      ],
      "text/plain": [
       "    Unnamed: 0   Entry   Entry name  Unnamed: 3            Protein names  \\\n",
       "1          NaN  P37840   SYUA_HUMAN         NaN          Alpha-synuclein   \n",
       "3          NaN  O76070   SYUG_HUMAN         NaN          Gamma-synuclein   \n",
       "4          NaN  Q16143   SYUB_HUMAN         NaN           Beta-synuclein   \n",
       "15         NaN  Q9Y6H5  SNCAP_HUMAN         NaN              Synphilin-1   \n",
       "16         NaN  Q8ND56  LS14A_HUMAN         NaN  Protein LSM14 homolog A   \n",
       "\n",
       "                                Gene names              Organism  Length   e  \n",
       "1                         SNCA NACP, PARK1  Homo sapiens (Human)     140 NaN  \n",
       "3                 SNCG BCSG1, PERSYN, PRSN  Homo sapiens (Human)     127 NaN  \n",
       "4                                     SNCB  Homo sapiens (Human)     134 NaN  \n",
       "15                                  SNCAIP  Homo sapiens (Human)     919 NaN  \n",
       "16  LSM14A C19orf13, FAM61A, RAP55, RAP55A  Homo sapiens (Human)     463 NaN  "
      ]
     },
     "execution_count": 10,
     "metadata": {},
     "output_type": "execute_result"
    }
   ],
   "source": [
    "human = list[list['Organism'] == 'Homo sapiens (Human)']\n",
    "human.head()"
   ]
  },
  {
   "cell_type": "code",
   "execution_count": 12,
   "id": "studied-equality",
   "metadata": {},
   "outputs": [
    {
     "name": "stdin",
     "output_type": "stream",
     "text": [
      "rowID?  3\n"
     ]
    },
    {
     "name": "stdout",
     "output_type": "stream",
     "text": [
      "ID: O76070\n",
      "Name: SYUG_HUMAN\n",
      "Description: Gamma-synuclein\n",
      "Database cross-references: ABCD:O76070, Antibodypedia:2808, BMRB:O76070, Bgee:ENSG00000173267, BioGRID-ORCS:6623, BioGRID:112507, BioMuta:SNCG, CCDS:CCDS7380.1, CPTAC:CPTAC-133, CPTAC:CPTAC-1459, CPTAC:CPTAC-1460, CPTAC:CPTAC-1461, CPTAC:CPTAC-708, CPTC:O76070, CTD:6623, ChiTaRS:SNCG, DNASU:6623, DOI:10.1002/cm.1035, DOI:10.1007/s004390050792, DOI:10.1073/pnas.0805139105, DOI:10.1074/jbc.m003542200, DOI:10.1093/hmg/7.9.1417, DOI:10.1101/gr.2596504, DOI:10.1186/1752-0509-5-17, DisGeNET:6623, DisProt:DP00630, EMBL:AF010126, EMBL:AF017256, EMBL:AF037207, EMBL:AF044311, EMBL:AF411524, EMBL:BC014098, EPD:O76070, Ensembl:ENST00000372017, ExpressionAtlas:O76070, GO:GO:0005737, GO:GO:0005813, GO:GO:0005819, GO:GO:0007268, GO:GO:0008344, GO:GO:0009306, GO:GO:0014059, GO:GO:0043025, GO:GO:0043679, GO:GO:0046928, GO:GO:0048471, GO:GO:0048488, GO:GO:0050808, GO:GO:0070062, GO:GO:1901214, GO:GO:1903136, GeneCards:SNCG, GeneID:6623, GeneTree:ENSGT00950000183175, GeneWiki:Gamma-synuclein, Genevisible:O76070, GenomeRNAi:6623, HGNC:HGNC:11141, HOGENOM:CLU_129378_0_0_1, HPA:ENSG00000173267, InParanoid:O76070, IntAct:O76070, InterPro:IPR001058, InterPro:IPR002462, KEGG:hsa:6623, MIM:602998, MassIVE:O76070, NCBI Taxonomy:9606, OMA:HAGPEDQ, OpenTargets:ENSG00000173267, OrthoDB:1544450at2759, PANTHER:PTHR13820, PRIDE:O76070, PRINTS:PR01211, PRINTS:PR01214, PRO:PR:O76070, PathwayCommons:O76070, PaxDb:O76070, PeptideAtlas:O76070, Pfam:PF01387, PharmGKB:PA35989, Pharos:O76070, PhosphoSitePlus:O76070, PhylomeDB:O76070, Proteomes:UP000005640, ProteomicsDB:50372, PubMed:10852916, PubMed:11746666, PubMed:15489334, PubMed:18669648, PubMed:21269460, PubMed:9044857, PubMed:9700196, PubMed:9737786, RNAct:O76070, RefSeq:NP_001317049.1, RefSeq:NP_003078.2, SIGNOR:O76070, SMR:O76070, STRING:9606.ENSP00000361087, Swiss-Prot:O15104, Swiss-Prot:O76070, Swiss-Prot:Q96P61, Swiss-Prot:SYUG_HUMAN, TCDB:1.C.77.1.3, TreeFam:TF332776, VEuPathDB:HostDB:ENSG00000173267.13, eggNOG:ENOG502S3WF, iPTMnet:O76070, jPOST:O76070, neXtProt:NX_O76070\n",
      "Number of features: 15\n",
      "/dataset=Swiss-Prot\n",
      "/created=1999-07-15\n",
      "/modified=2021-06-02\n",
      "/version=188\n",
      "/accessions=['O76070', 'O15104', 'Q96P61']\n",
      "/recommendedName_fullName=['Gamma-synuclein']\n",
      "/alternativeName_fullName=['Breast cancer-specific gene 1 protein', 'Persyn', 'Synoretin']\n",
      "/alternativeName_shortName=['SR']\n",
      "/gene_name_primary=SNCG\n",
      "/gene_name_synonym=['BCSG1', 'PERSYN', 'PRSN']\n",
      "/taxonomy=['Eukaryota', 'Metazoa', 'Chordata', 'Craniata', 'Vertebrata', 'Euteleostomi', 'Mammalia', 'Eutheria', 'Euarchontoglires', 'Primates', 'Haplorrhini', 'Catarrhini', 'Hominidae', 'Homo']\n",
      "/organism=Homo sapiens (Human)\n",
      "/references=[Reference(title='Identification of a breast cancer-specific gene, BCSG1, by direct differential cDNA sequencing.', ...), Reference(title='Organization, expression and polymorphism of the human persyn gene.', ...), Reference(title='Identification, localization and characterization of the human gamma-synuclein gene.', ...), Reference(title='', ...), Reference(title='The status, quality, and expansion of the NIH full-length cDNA project: the Mammalian Gene Collection (MGC).', ...), Reference(title='Synucleins are a novel class of substrates for G protein-coupled receptor kinases.', ...), Reference(title='Gamma synuclein: subcellular localization in neuronal and non-neuronal cells and effect on signal transduction.', ...), Reference(title='A quantitative atlas of mitotic phosphorylation.', ...), Reference(title='Initial characterization of the human central proteome.', ...)]\n",
      "/comment_function=['Plays a role in neurofilament network integrity. May be involved in modulating axonal architecture during development and in the adult. In vitro, increases the susceptibility of neurofilament-H to calcium-dependent proteases (By similarity). May also function in modulating the keratin network in skin. Activates the MAPK and Elk-1 signal transduction pathway (By similarity).']\n",
      "/comment_subunit=['May be a centrosome-associated protein. Interacts with MYOC; affects its secretion and its aggregation (By similarity).']\n",
      "/comment_interaction_intactId=['EBI-1053810', 'EBI-710997']\n",
      "/comment_subcellularlocation_location=['Cytoplasm', 'Perinuclear region', 'Cytoskeleton', 'Microtubule organizing center', 'Centrosome', 'Spindle']\n",
      "/comment_tissuespecificity=['Highly expressed in brain, particularly in the substantia nigra. Also expressed in the corpus callosum, heart, skeletal muscle, ovary, testis, colon and spleen. Weak expression in pancreas, kidney and lung.']\n",
      "/comment_PTM=['Phosphorylated. Phosphorylation by GRK5 appears to occur on residues distinct from the residue phosphorylated by other kinases.']\n",
      "/comment_similarity=['Belongs to the synuclein family.']\n",
      "/comment_onlineinformation=['Atlas of Genetics and Cytogenetics in Oncology and Haematology@http://atlasgeneticsoncology.org/Genes/SNCGID42343ch10q23.html']\n",
      "/proteinExistence=['evidence at protein level']\n",
      "/keywords=['Cytoplasm', 'Cytoskeleton', 'Phosphoprotein', 'Reference proteome', 'Repeat']\n",
      "/key=['1', '2', '3', '4', '5', '6', '7', '8']\n",
      "/type=['ECO:0000250', 'ECO:0000256', 'ECO:0000269', 'ECO:0000305']\n",
      "/sequence_length=127\n",
      "/sequence_mass=13331\n",
      "/sequence_checksum=F183DEF302DBE688\n",
      "/sequence_modified=2006-03-21\n",
      "/sequence_version=2\n",
      "/molecule_type=protein\n",
      "Seq('MDVFKKGFSIAKEGVVGAVEKTKQGVTEAAEKTKEGVMYVGAKTKENVVQSVTS...GGD')\n"
     ]
    }
   ],
   "source": [
    "rowID = input('rowID? ')\n",
    "KCTD17 = list['Entry'][int(rowID)]\n",
    "handle = urlopen(\"http://www.uniprot.org/uniprot/{}.xml\".format(KCTD17))\n",
    "record = SeqIO.read(handle, \"uniprot-xml\")\n",
    "print(record)"
   ]
  },
  {
   "cell_type": "code",
   "execution_count": null,
   "id": "dental-words",
   "metadata": {},
   "outputs": [],
   "source": []
  }
 ],
 "metadata": {
  "kernelspec": {
   "display_name": "Python 3",
   "language": "python",
   "name": "python3"
  },
  "language_info": {
   "codemirror_mode": {
    "name": "ipython",
    "version": 3
   },
   "file_extension": ".py",
   "mimetype": "text/x-python",
   "name": "python",
   "nbconvert_exporter": "python",
   "pygments_lexer": "ipython3",
   "version": "3.7.9"
  }
 },
 "nbformat": 4,
 "nbformat_minor": 5
}
